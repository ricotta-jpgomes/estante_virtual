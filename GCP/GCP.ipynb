{
  "nbformat": 4,
  "nbformat_minor": 0,
  "metadata": {
    "colab": {
      "provenance": [],
      "toc_visible": true,
      "mount_file_id": "1y3-TqA9D-5-XpLQA6_5wDXHfH_1dbaxF",
      "authorship_tag": "ABX9TyOehJitzfGJXYut/mi6W/99",
      "include_colab_link": true
    },
    "kernelspec": {
      "name": "python3",
      "display_name": "Python 3"
    },
    "language_info": {
      "name": "python"
    }
  },
  "cells": [
    {
      "cell_type": "markdown",
      "metadata": {
        "id": "view-in-github",
        "colab_type": "text"
      },
      "source": [
        "<a href=\"https://colab.research.google.com/github/ricotta-jpgomes/estante_virtual/blob/main/GCP/GCP.ipynb\" target=\"_parent\"><img src=\"https://colab.research.google.com/assets/colab-badge.svg\" alt=\"Open In Colab\"/></a>"
      ]
    },
    {
      "cell_type": "markdown",
      "source": [
        "# Catálogo de preços para VMs na GCP e suas configurações\n",
        "---\n",
        "\n",
        "**Autor**: João Paulo Gomes Ricotta\n",
        "\n",
        "**Ano**: 2025\n",
        "\n",
        "\n",
        "\n",
        "\n",
        "\n",
        "> Este notebook consolida uma base de dados com preços e configurações de diferentes instâncias de VMs disponíveis na Google Cloud Platform (GCP), e faz parte do trabalho de conclusão de curso para o MBA em Data Science e Analytics da USP-ESALQ. Os dados do catálogo são públicos, e podem ser consultados pela api de preços de varejo da Azure. As configurações de cada máquina, por sua vez, são obtidas pela api de gerenciamento de conta, sendo necessário a criação de uma conta e um usuário impessoal (aplicativo) dentro do provedor.\n",
        "\n"
      ],
      "metadata": {
        "id": "-I8r2Ljn2JRe"
      }
    },
    {
      "cell_type": "markdown",
      "source": [
        "## Configuração do ambiente 💻"
      ],
      "metadata": {
        "id": "FxjhA8GeTUbQ"
      }
    },
    {
      "cell_type": "code",
      "source": [
        "!pip install python-dotenv"
      ],
      "metadata": {
        "id": "Qn6Cmm3ssNPq",
        "colab": {
          "base_uri": "https://localhost:8080/"
        },
        "outputId": "dab92e86-02c6-450f-8b3d-08d7c0882121"
      },
      "execution_count": null,
      "outputs": [
        {
          "output_type": "stream",
          "name": "stdout",
          "text": [
            "Requirement already satisfied: python-dotenv in /usr/local/lib/python3.11/dist-packages (1.1.1)\n"
          ]
        }
      ]
    },
    {
      "cell_type": "code",
      "source": [
        "import json\n",
        "from datetime import datetime, timezone, timedelta  # Manipulação de datas\n",
        "\n",
        "import numpy as np\n",
        "import pandas as pd\n",
        "import pytz  # Manipulação de fuso horário\n",
        "import requests\n",
        "from dotenv import find_dotenv, load_dotenv, set_key\n",
        "from google.auth.transport.requests import Request\n",
        "from google.oauth2 import service_account\n",
        "from googleapiclient.discovery import build"
      ],
      "metadata": {
        "id": "K-LJ-8DCphB-"
      },
      "execution_count": null,
      "outputs": []
    },
    {
      "cell_type": "code",
      "source": [
        "# --- Bloco de Configuração ---\n",
        "SERVICE_ACCOUNT_FILE = '/content/drive/MyDrive/MBA Data Science e Analytics/TCC/Código/GCP/gcp_credentials.json'\n",
        "SCOPES = ['https://www.googleapis.com/auth/compute.readonly', 'https://www.googleapis.com/auth/cloud-billing', 'https://www.googleapis.com/auth/cloud-platform']\n",
        "PROJECT_ID = 'friendly-cargo-463721-c0'"
      ],
      "metadata": {
        "id": "u-MdYOdtQGPU"
      },
      "execution_count": null,
      "outputs": []
    },
    {
      "cell_type": "code",
      "source": [
        "# Encontra o arquivo .env no caminho especificado\n",
        "# Se não encontrar, ele pode criar um arquivo .env no diretório especificado\n",
        "env_file = find_dotenv(\"/content/drive/MyDrive/MBA Data Science e Analytics/TCC/Código/.env\")\n",
        "if not env_file:\n",
        "    env_file = '/content/drive/MyDrive/MBA Data Science e Analytics/TCC/Código/.env'  # Cria o arquivo .env no diretório atual se não existir"
      ],
      "metadata": {
        "id": "ZvZW-0-Bbh1y"
      },
      "execution_count": null,
      "outputs": []
    },
    {
      "cell_type": "code",
      "source": [
        "diff = timedelta(hours = -3)\n",
        "tzone = timezone(diff)\n",
        "extraction_date = datetime.now(tz=tzone) # obtendo a data e hora da extração dos dados\n",
        "extraction_date = extraction_date.astimezone(pytz.timezone(\"America/Sao_Paulo\"))\n",
        "\n",
        "set_key(env_file, 'EXTRACTION_DATE', f'{extraction_date.strftime(\"%d-%m-%Y\")}')"
      ],
      "metadata": {
        "id": "H002JdK9n1_E",
        "colab": {
          "base_uri": "https://localhost:8080/"
        },
        "outputId": "496873d4-c573-4ba4-f77c-1514303b4e98"
      },
      "execution_count": null,
      "outputs": [
        {
          "output_type": "execute_result",
          "data": {
            "text/plain": [
              "(True, 'EXTRACTION_DATE', '06-07-2025')"
            ]
          },
          "metadata": {},
          "execution_count": 14
        }
      ]
    },
    {
      "cell_type": "markdown",
      "source": [
        "## Coleta dos Dados 🎣"
      ],
      "metadata": {
        "id": "RSnVHGvnQpiS"
      }
    },
    {
      "cell_type": "markdown",
      "source": [
        "### Configuração das credenciais de autenticação"
      ],
      "metadata": {
        "id": "3uvkSuerTITe"
      }
    },
    {
      "cell_type": "code",
      "source": [
        "credentials = service_account.Credentials.from_service_account_file(\n",
        "        SERVICE_ACCOUNT_FILE,\n",
        "        scopes=SCOPES\n",
        "    )"
      ],
      "metadata": {
        "id": "CD6Vevcoy36i"
      },
      "execution_count": null,
      "outputs": []
    },
    {
      "cell_type": "code",
      "source": [
        "# Constrói um \"cliente\" para interagir com a API do Compute Engine\n",
        "compute_service = build('compute', 'v1', credentials=credentials)"
      ],
      "metadata": {
        "id": "6Y5vmRWH5K49"
      },
      "execution_count": null,
      "outputs": []
    },
    {
      "cell_type": "markdown",
      "source": [
        "### Obtendo os detalhes de configuração das máquinas"
      ],
      "metadata": {
        "id": "rb3b1gHiQHAe"
      }
    },
    {
      "cell_type": "markdown",
      "source": [
        "#### Busca por zonas"
      ],
      "metadata": {
        "id": "cr2OqOFiOQLI"
      }
    },
    {
      "cell_type": "code",
      "source": [
        "# --- Autenticação e Coleta (Zonas disponíveis para consulta) ---\n",
        "try:\n",
        "\n",
        "    print(f\"Buscando zonas disponíveis para o projeto {PROJECT_ID}...\")\n",
        "\n",
        "    # Faz a chamada à API para listar as regiões\n",
        "    request = compute_service.zones().list(project=PROJECT_ID)\n",
        "    response = request.execute()\n",
        "\n",
        "    # Extrai o nome de cada região da resposta e adiciona a uma lista\n",
        "    zones = [zone['name'] for zone in response.get('items', [])]\n",
        "\n",
        "    print(\"\\n-> Busca de regiões concluída.\")\n",
        "\n",
        "    # Imprime a lista Python final\n",
        "    print(\"-> Lista de zonas do Google Cloud Platform:\")\n",
        "    print(zones)\n",
        "\n",
        "    print(f\"\\nTotal de {len(zones)}  zonas encontradas.\")\n",
        "\n",
        "\n",
        "except FileNotFoundError:\n",
        "    print(f\"ERRO: Arquivo de credenciais '{SERVICE_ACCOUNT_FILE}' não encontrado.\")\n",
        "except Exception as e:\n",
        "    print(f\"Ocorreu um erro: {e}\")\n",
        "    print(\"--> Possível causa: A 'Compute Engine API' não está ativada no seu projeto ou a conta de serviço não tem o papel de 'Leitor' (Viewer) no projeto.\")"
      ],
      "metadata": {
        "colab": {
          "base_uri": "https://localhost:8080/"
        },
        "id": "ZwOad0t0Q5bB",
        "outputId": "2c58c9a6-4616-4361-8e17-933e4b717824"
      },
      "execution_count": null,
      "outputs": [
        {
          "output_type": "stream",
          "name": "stdout",
          "text": [
            "Buscando zonas disponíveis para o projeto friendly-cargo-463721-c0...\n",
            "\n",
            "-> Busca de regiões concluída.\n",
            "-> Lista de zonas do Google Cloud Platform:\n",
            "['us-east1-b', 'us-east1-c', 'us-east1-d', 'us-east4-c', 'us-east4-b', 'us-east4-a', 'us-central1-c', 'us-central1-a', 'us-central1-f', 'us-central1-b', 'us-west1-b', 'us-west1-c', 'us-west1-a', 'europe-west4-a', 'europe-west4-b', 'europe-west4-c', 'europe-west1-b', 'europe-west1-d', 'europe-west1-c', 'europe-west3-c', 'europe-west3-a', 'europe-west3-b', 'europe-west2-c', 'europe-west2-b', 'europe-west2-a', 'asia-east1-b', 'asia-east1-a', 'asia-east1-c', 'asia-southeast1-b', 'asia-southeast1-a', 'asia-southeast1-c', 'asia-northeast1-b', 'asia-northeast1-c', 'asia-northeast1-a', 'asia-south1-c', 'asia-south1-b', 'asia-south1-a', 'australia-southeast1-b', 'australia-southeast1-c', 'australia-southeast1-a', 'southamerica-east1-b', 'southamerica-east1-c', 'southamerica-east1-a', 'africa-south1-a', 'africa-south1-b', 'africa-south1-c', 'asia-east2-a', 'asia-east2-b', 'asia-east2-c', 'asia-northeast2-a', 'asia-northeast2-b', 'asia-northeast2-c', 'asia-northeast3-a', 'asia-northeast3-b', 'asia-northeast3-c', 'asia-south2-a', 'asia-south2-b', 'asia-south2-c', 'asia-southeast2-a', 'asia-southeast2-b', 'asia-southeast2-c', 'australia-southeast2-a', 'australia-southeast2-b', 'australia-southeast2-c', 'europe-central2-a', 'europe-central2-b', 'europe-central2-c', 'europe-north1-a', 'europe-north1-b', 'europe-north1-c', 'europe-north2-a', 'europe-north2-b', 'europe-north2-c', 'europe-southwest1-a', 'europe-southwest1-b', 'europe-southwest1-c', 'europe-west10-a', 'europe-west10-b', 'europe-west10-c', 'europe-west12-a', 'europe-west12-b', 'europe-west12-c', 'europe-west6-a', 'europe-west6-b', 'europe-west6-c', 'europe-west8-a', 'europe-west8-b', 'europe-west8-c', 'europe-west9-a', 'europe-west9-b', 'europe-west9-c', 'me-central1-a', 'me-central1-b', 'me-central1-c', 'me-central2-a', 'me-central2-b', 'me-central2-c', 'me-west1-a', 'me-west1-b', 'me-west1-c', 'northamerica-northeast1-a', 'northamerica-northeast1-b', 'northamerica-northeast1-c', 'northamerica-northeast2-a', 'northamerica-northeast2-b', 'northamerica-northeast2-c', 'northamerica-south1-a', 'northamerica-south1-b', 'northamerica-south1-c', 'southamerica-west1-a', 'southamerica-west1-b', 'southamerica-west1-c', 'us-east5-a', 'us-east5-b', 'us-east5-c', 'us-south1-a', 'us-south1-b', 'us-south1-c', 'us-west2-a', 'us-west2-b', 'us-west2-c', 'us-west3-a', 'us-west3-b', 'us-west3-c', 'us-west4-a', 'us-west4-b', 'us-west4-c']\n",
            "\n",
            "Total de 127  zonas encontradas.\n"
          ]
        }
      ]
    },
    {
      "cell_type": "markdown",
      "source": [],
      "metadata": {
        "id": "kJRLMKF7x4Gc"
      }
    },
    {
      "cell_type": "markdown",
      "source": [
        "#### Busca por máquinas"
      ],
      "metadata": {
        "id": "9suOcsVNOX0Q"
      }
    },
    {
      "cell_type": "markdown",
      "source": [
        "Com a lista de zonas disponíveis devidamente configurada, vamos buscar as configurações de cada máquina (essa busca é feita por zonas)."
      ],
      "metadata": {
        "id": "pwpi1SFlRoO_"
      }
    },
    {
      "cell_type": "code",
      "source": [
        "machine_specs = []\n",
        "for zone in zones:\n",
        "      print(f\"Buscando especificações de máquinas na zona {zone}...\")\n",
        "\n",
        "      # Faz a chamada à API para listar os tipos de máquina\n",
        "      try:\n",
        "        request = compute_service.machineTypes().list(project=PROJECT_ID, zone=zone)\n",
        "\n",
        "        # O resultado pode vir em páginas, então fazemos um laço\n",
        "        while request is not None:\n",
        "            response = request.execute()\n",
        "\n",
        "            # Para cada máquina na resposta, extraímos os dados que queremos\n",
        "            if 'items' in response:\n",
        "\n",
        "                for machine_type in response['items']:\n",
        "                    discos_temporarios = machine_type.get('ephemeralDisks', [])\n",
        "                    tamanho_total_temp_gb = sum(int(disk.get('diskGb', 0)) for disk in discos_temporarios)\n",
        "\n",
        "\n",
        "                    machine_specs.append({\n",
        "                        'machineType': machine_type.get('name'),\n",
        "                        'machineFamily': machine_type.get('name', '').split('-')[0].upper(),\n",
        "                        'numberOfCores': machine_type.get('guestCpus'),\n",
        "                        'memoryInMiB': machine_type.get('memoryMb'), # A API retorna em MiB\n",
        "                        'ephemeralDiskGiB': tamanho_total_temp_gb,\n",
        "                        'zone': zone\n",
        "                        })\n",
        "\n",
        "            # Pega o token da próxima página\n",
        "            request = compute_service.machineTypes().list_next(previous_request=request, previous_response=response)\n",
        "      except Exception as e:\n",
        "        print(f\"Ocorreu um erro: {e}\")\n",
        "print(\"Busca de especificações concluída.\")"
      ],
      "metadata": {
        "colab": {
          "base_uri": "https://localhost:8080/"
        },
        "id": "Q3Yt-aFGUmGB",
        "outputId": "4c5db7b5-9386-447f-92cb-c39a50501b14"
      },
      "execution_count": null,
      "outputs": [
        {
          "output_type": "stream",
          "name": "stdout",
          "text": [
            "Buscando especificações de máquinas na zona us-east1-b...\n",
            "Buscando especificações de máquinas na zona us-east1-c...\n",
            "Buscando especificações de máquinas na zona us-east1-d...\n",
            "Buscando especificações de máquinas na zona us-east4-c...\n",
            "Buscando especificações de máquinas na zona us-east4-b...\n",
            "Buscando especificações de máquinas na zona us-east4-a...\n",
            "Buscando especificações de máquinas na zona us-central1-c...\n",
            "Buscando especificações de máquinas na zona us-central1-a...\n",
            "Buscando especificações de máquinas na zona us-central1-f...\n",
            "Buscando especificações de máquinas na zona us-central1-b...\n",
            "Buscando especificações de máquinas na zona us-west1-b...\n",
            "Buscando especificações de máquinas na zona us-west1-c...\n",
            "Buscando especificações de máquinas na zona us-west1-a...\n",
            "Buscando especificações de máquinas na zona europe-west4-a...\n",
            "Buscando especificações de máquinas na zona europe-west4-b...\n",
            "Buscando especificações de máquinas na zona europe-west4-c...\n",
            "Buscando especificações de máquinas na zona europe-west1-b...\n",
            "Buscando especificações de máquinas na zona europe-west1-d...\n",
            "Buscando especificações de máquinas na zona europe-west1-c...\n",
            "Buscando especificações de máquinas na zona europe-west3-c...\n",
            "Buscando especificações de máquinas na zona europe-west3-a...\n",
            "Buscando especificações de máquinas na zona europe-west3-b...\n",
            "Buscando especificações de máquinas na zona europe-west2-c...\n",
            "Buscando especificações de máquinas na zona europe-west2-b...\n",
            "Buscando especificações de máquinas na zona europe-west2-a...\n",
            "Buscando especificações de máquinas na zona asia-east1-b...\n",
            "Buscando especificações de máquinas na zona asia-east1-a...\n",
            "Buscando especificações de máquinas na zona asia-east1-c...\n",
            "Buscando especificações de máquinas na zona asia-southeast1-b...\n",
            "Buscando especificações de máquinas na zona asia-southeast1-a...\n",
            "Buscando especificações de máquinas na zona asia-southeast1-c...\n",
            "Buscando especificações de máquinas na zona asia-northeast1-b...\n",
            "Buscando especificações de máquinas na zona asia-northeast1-c...\n",
            "Buscando especificações de máquinas na zona asia-northeast1-a...\n",
            "Buscando especificações de máquinas na zona asia-south1-c...\n",
            "Buscando especificações de máquinas na zona asia-south1-b...\n",
            "Buscando especificações de máquinas na zona asia-south1-a...\n",
            "Buscando especificações de máquinas na zona australia-southeast1-b...\n",
            "Buscando especificações de máquinas na zona australia-southeast1-c...\n",
            "Buscando especificações de máquinas na zona australia-southeast1-a...\n",
            "Buscando especificações de máquinas na zona southamerica-east1-b...\n",
            "Buscando especificações de máquinas na zona southamerica-east1-c...\n",
            "Buscando especificações de máquinas na zona southamerica-east1-a...\n",
            "Buscando especificações de máquinas na zona africa-south1-a...\n",
            "Buscando especificações de máquinas na zona africa-south1-b...\n",
            "Buscando especificações de máquinas na zona africa-south1-c...\n",
            "Buscando especificações de máquinas na zona asia-east2-a...\n",
            "Buscando especificações de máquinas na zona asia-east2-b...\n",
            "Buscando especificações de máquinas na zona asia-east2-c...\n",
            "Buscando especificações de máquinas na zona asia-northeast2-a...\n",
            "Buscando especificações de máquinas na zona asia-northeast2-b...\n",
            "Buscando especificações de máquinas na zona asia-northeast2-c...\n",
            "Buscando especificações de máquinas na zona asia-northeast3-a...\n",
            "Buscando especificações de máquinas na zona asia-northeast3-b...\n",
            "Buscando especificações de máquinas na zona asia-northeast3-c...\n",
            "Buscando especificações de máquinas na zona asia-south2-a...\n",
            "Buscando especificações de máquinas na zona asia-south2-b...\n",
            "Buscando especificações de máquinas na zona asia-south2-c...\n",
            "Buscando especificações de máquinas na zona asia-southeast2-a...\n",
            "Buscando especificações de máquinas na zona asia-southeast2-b...\n",
            "Buscando especificações de máquinas na zona asia-southeast2-c...\n",
            "Buscando especificações de máquinas na zona australia-southeast2-a...\n",
            "Buscando especificações de máquinas na zona australia-southeast2-b...\n",
            "Buscando especificações de máquinas na zona australia-southeast2-c...\n",
            "Buscando especificações de máquinas na zona europe-central2-a...\n",
            "Buscando especificações de máquinas na zona europe-central2-b...\n",
            "Buscando especificações de máquinas na zona europe-central2-c...\n",
            "Buscando especificações de máquinas na zona europe-north1-a...\n",
            "Buscando especificações de máquinas na zona europe-north1-b...\n",
            "Buscando especificações de máquinas na zona europe-north1-c...\n",
            "Buscando especificações de máquinas na zona europe-north2-a...\n",
            "Buscando especificações de máquinas na zona europe-north2-b...\n",
            "Buscando especificações de máquinas na zona europe-north2-c...\n",
            "Buscando especificações de máquinas na zona europe-southwest1-a...\n",
            "Buscando especificações de máquinas na zona europe-southwest1-b...\n",
            "Buscando especificações de máquinas na zona europe-southwest1-c...\n",
            "Buscando especificações de máquinas na zona europe-west10-a...\n",
            "Buscando especificações de máquinas na zona europe-west10-b...\n",
            "Buscando especificações de máquinas na zona europe-west10-c...\n",
            "Buscando especificações de máquinas na zona europe-west12-a...\n",
            "Buscando especificações de máquinas na zona europe-west12-b...\n",
            "Buscando especificações de máquinas na zona europe-west12-c...\n",
            "Buscando especificações de máquinas na zona europe-west6-a...\n",
            "Buscando especificações de máquinas na zona europe-west6-b...\n",
            "Buscando especificações de máquinas na zona europe-west6-c...\n",
            "Buscando especificações de máquinas na zona europe-west8-a...\n",
            "Buscando especificações de máquinas na zona europe-west8-b...\n",
            "Buscando especificações de máquinas na zona europe-west8-c...\n",
            "Buscando especificações de máquinas na zona europe-west9-a...\n",
            "Buscando especificações de máquinas na zona europe-west9-b...\n",
            "Buscando especificações de máquinas na zona europe-west9-c...\n",
            "Buscando especificações de máquinas na zona me-central1-a...\n",
            "Buscando especificações de máquinas na zona me-central1-b...\n",
            "Buscando especificações de máquinas na zona me-central1-c...\n",
            "Buscando especificações de máquinas na zona me-central2-a...\n",
            "Buscando especificações de máquinas na zona me-central2-b...\n",
            "Buscando especificações de máquinas na zona me-central2-c...\n",
            "Buscando especificações de máquinas na zona me-west1-a...\n",
            "Buscando especificações de máquinas na zona me-west1-b...\n",
            "Buscando especificações de máquinas na zona me-west1-c...\n",
            "Buscando especificações de máquinas na zona northamerica-northeast1-a...\n",
            "Buscando especificações de máquinas na zona northamerica-northeast1-b...\n",
            "Buscando especificações de máquinas na zona northamerica-northeast1-c...\n",
            "Buscando especificações de máquinas na zona northamerica-northeast2-a...\n",
            "Buscando especificações de máquinas na zona northamerica-northeast2-b...\n",
            "Buscando especificações de máquinas na zona northamerica-northeast2-c...\n",
            "Buscando especificações de máquinas na zona northamerica-south1-a...\n",
            "Buscando especificações de máquinas na zona northamerica-south1-b...\n",
            "Buscando especificações de máquinas na zona northamerica-south1-c...\n",
            "Buscando especificações de máquinas na zona southamerica-west1-a...\n",
            "Buscando especificações de máquinas na zona southamerica-west1-b...\n",
            "Buscando especificações de máquinas na zona southamerica-west1-c...\n",
            "Buscando especificações de máquinas na zona us-east5-a...\n",
            "Buscando especificações de máquinas na zona us-east5-b...\n",
            "Buscando especificações de máquinas na zona us-east5-c...\n",
            "Buscando especificações de máquinas na zona us-south1-a...\n",
            "Buscando especificações de máquinas na zona us-south1-b...\n",
            "Buscando especificações de máquinas na zona us-south1-c...\n",
            "Buscando especificações de máquinas na zona us-west2-a...\n",
            "Buscando especificações de máquinas na zona us-west2-b...\n",
            "Buscando especificações de máquinas na zona us-west2-c...\n",
            "Buscando especificações de máquinas na zona us-west3-a...\n",
            "Buscando especificações de máquinas na zona us-west3-b...\n",
            "Buscando especificações de máquinas na zona us-west3-c...\n",
            "Buscando especificações de máquinas na zona us-west4-a...\n",
            "Buscando especificações de máquinas na zona us-west4-b...\n",
            "Buscando especificações de máquinas na zona us-west4-c...\n",
            "Busca de especificações concluída.\n"
          ]
        }
      ]
    },
    {
      "cell_type": "code",
      "source": [
        " # Cria o DataFrame final com as especificações\n",
        "df_gcp_specs = pd.DataFrame(machine_specs)\n",
        "\n",
        "print(\"\\nAmostra do DataFrame de especificações de VMs do GCP:\")\n",
        "display(df_gcp_specs.head())\n",
        "\n",
        "print(f\"\\nTotal de {len(df_gcp_specs)} tipos de máquina encontrados para as zonas disponíveis.\")"
      ],
      "metadata": {
        "colab": {
          "base_uri": "https://localhost:8080/",
          "height": 278
        },
        "id": "Jr0Kr5GBUwk_",
        "outputId": "cf9dda6a-325e-42e2-bb12-3b1f816cf041"
      },
      "execution_count": null,
      "outputs": [
        {
          "output_type": "stream",
          "name": "stdout",
          "text": [
            "\n",
            "Amostra do DataFrame de especificações de VMs do GCP:\n"
          ]
        },
        {
          "output_type": "display_data",
          "data": {
            "text/plain": [
              "     machineType machineFamily  numberOfCores  memoryInMiB  ephemeralDiskGiB  \\\n",
              "0  a2-highgpu-1g            A2             12        87040                 0   \n",
              "1  a2-highgpu-2g            A2             24       174080                 0   \n",
              "2  a2-highgpu-4g            A2             48       348160                 0   \n",
              "3  a2-highgpu-8g            A2             96       696320                 0   \n",
              "4  a4-highgpu-8g            A4            224      4063232                 0   \n",
              "\n",
              "         zone  \n",
              "0  us-east1-b  \n",
              "1  us-east1-b  \n",
              "2  us-east1-b  \n",
              "3  us-east1-b  \n",
              "4  us-east1-b  "
            ],
            "text/html": [
              "\n",
              "  <div id=\"df-5b4c5227-7f8c-4597-9162-7e4b86d13acf\" class=\"colab-df-container\">\n",
              "    <div>\n",
              "<style scoped>\n",
              "    .dataframe tbody tr th:only-of-type {\n",
              "        vertical-align: middle;\n",
              "    }\n",
              "\n",
              "    .dataframe tbody tr th {\n",
              "        vertical-align: top;\n",
              "    }\n",
              "\n",
              "    .dataframe thead th {\n",
              "        text-align: right;\n",
              "    }\n",
              "</style>\n",
              "<table border=\"1\" class=\"dataframe\">\n",
              "  <thead>\n",
              "    <tr style=\"text-align: right;\">\n",
              "      <th></th>\n",
              "      <th>machineType</th>\n",
              "      <th>machineFamily</th>\n",
              "      <th>numberOfCores</th>\n",
              "      <th>memoryInMiB</th>\n",
              "      <th>ephemeralDiskGiB</th>\n",
              "      <th>zone</th>\n",
              "    </tr>\n",
              "  </thead>\n",
              "  <tbody>\n",
              "    <tr>\n",
              "      <th>0</th>\n",
              "      <td>a2-highgpu-1g</td>\n",
              "      <td>A2</td>\n",
              "      <td>12</td>\n",
              "      <td>87040</td>\n",
              "      <td>0</td>\n",
              "      <td>us-east1-b</td>\n",
              "    </tr>\n",
              "    <tr>\n",
              "      <th>1</th>\n",
              "      <td>a2-highgpu-2g</td>\n",
              "      <td>A2</td>\n",
              "      <td>24</td>\n",
              "      <td>174080</td>\n",
              "      <td>0</td>\n",
              "      <td>us-east1-b</td>\n",
              "    </tr>\n",
              "    <tr>\n",
              "      <th>2</th>\n",
              "      <td>a2-highgpu-4g</td>\n",
              "      <td>A2</td>\n",
              "      <td>48</td>\n",
              "      <td>348160</td>\n",
              "      <td>0</td>\n",
              "      <td>us-east1-b</td>\n",
              "    </tr>\n",
              "    <tr>\n",
              "      <th>3</th>\n",
              "      <td>a2-highgpu-8g</td>\n",
              "      <td>A2</td>\n",
              "      <td>96</td>\n",
              "      <td>696320</td>\n",
              "      <td>0</td>\n",
              "      <td>us-east1-b</td>\n",
              "    </tr>\n",
              "    <tr>\n",
              "      <th>4</th>\n",
              "      <td>a4-highgpu-8g</td>\n",
              "      <td>A4</td>\n",
              "      <td>224</td>\n",
              "      <td>4063232</td>\n",
              "      <td>0</td>\n",
              "      <td>us-east1-b</td>\n",
              "    </tr>\n",
              "  </tbody>\n",
              "</table>\n",
              "</div>\n",
              "    <div class=\"colab-df-buttons\">\n",
              "\n",
              "  <div class=\"colab-df-container\">\n",
              "    <button class=\"colab-df-convert\" onclick=\"convertToInteractive('df-5b4c5227-7f8c-4597-9162-7e4b86d13acf')\"\n",
              "            title=\"Convert this dataframe to an interactive table.\"\n",
              "            style=\"display:none;\">\n",
              "\n",
              "  <svg xmlns=\"http://www.w3.org/2000/svg\" height=\"24px\" viewBox=\"0 -960 960 960\">\n",
              "    <path d=\"M120-120v-720h720v720H120Zm60-500h600v-160H180v160Zm220 220h160v-160H400v160Zm0 220h160v-160H400v160ZM180-400h160v-160H180v160Zm440 0h160v-160H620v160ZM180-180h160v-160H180v160Zm440 0h160v-160H620v160Z\"/>\n",
              "  </svg>\n",
              "    </button>\n",
              "\n",
              "  <style>\n",
              "    .colab-df-container {\n",
              "      display:flex;\n",
              "      gap: 12px;\n",
              "    }\n",
              "\n",
              "    .colab-df-convert {\n",
              "      background-color: #E8F0FE;\n",
              "      border: none;\n",
              "      border-radius: 50%;\n",
              "      cursor: pointer;\n",
              "      display: none;\n",
              "      fill: #1967D2;\n",
              "      height: 32px;\n",
              "      padding: 0 0 0 0;\n",
              "      width: 32px;\n",
              "    }\n",
              "\n",
              "    .colab-df-convert:hover {\n",
              "      background-color: #E2EBFA;\n",
              "      box-shadow: 0px 1px 2px rgba(60, 64, 67, 0.3), 0px 1px 3px 1px rgba(60, 64, 67, 0.15);\n",
              "      fill: #174EA6;\n",
              "    }\n",
              "\n",
              "    .colab-df-buttons div {\n",
              "      margin-bottom: 4px;\n",
              "    }\n",
              "\n",
              "    [theme=dark] .colab-df-convert {\n",
              "      background-color: #3B4455;\n",
              "      fill: #D2E3FC;\n",
              "    }\n",
              "\n",
              "    [theme=dark] .colab-df-convert:hover {\n",
              "      background-color: #434B5C;\n",
              "      box-shadow: 0px 1px 3px 1px rgba(0, 0, 0, 0.15);\n",
              "      filter: drop-shadow(0px 1px 2px rgba(0, 0, 0, 0.3));\n",
              "      fill: #FFFFFF;\n",
              "    }\n",
              "  </style>\n",
              "\n",
              "    <script>\n",
              "      const buttonEl =\n",
              "        document.querySelector('#df-5b4c5227-7f8c-4597-9162-7e4b86d13acf button.colab-df-convert');\n",
              "      buttonEl.style.display =\n",
              "        google.colab.kernel.accessAllowed ? 'block' : 'none';\n",
              "\n",
              "      async function convertToInteractive(key) {\n",
              "        const element = document.querySelector('#df-5b4c5227-7f8c-4597-9162-7e4b86d13acf');\n",
              "        const dataTable =\n",
              "          await google.colab.kernel.invokeFunction('convertToInteractive',\n",
              "                                                    [key], {});\n",
              "        if (!dataTable) return;\n",
              "\n",
              "        const docLinkHtml = 'Like what you see? Visit the ' +\n",
              "          '<a target=\"_blank\" href=https://colab.research.google.com/notebooks/data_table.ipynb>data table notebook</a>'\n",
              "          + ' to learn more about interactive tables.';\n",
              "        element.innerHTML = '';\n",
              "        dataTable['output_type'] = 'display_data';\n",
              "        await google.colab.output.renderOutput(dataTable, element);\n",
              "        const docLink = document.createElement('div');\n",
              "        docLink.innerHTML = docLinkHtml;\n",
              "        element.appendChild(docLink);\n",
              "      }\n",
              "    </script>\n",
              "  </div>\n",
              "\n",
              "\n",
              "    <div id=\"df-eea47d71-f60b-4ead-93bd-a267b28b2def\">\n",
              "      <button class=\"colab-df-quickchart\" onclick=\"quickchart('df-eea47d71-f60b-4ead-93bd-a267b28b2def')\"\n",
              "                title=\"Suggest charts\"\n",
              "                style=\"display:none;\">\n",
              "\n",
              "<svg xmlns=\"http://www.w3.org/2000/svg\" height=\"24px\"viewBox=\"0 0 24 24\"\n",
              "     width=\"24px\">\n",
              "    <g>\n",
              "        <path d=\"M19 3H5c-1.1 0-2 .9-2 2v14c0 1.1.9 2 2 2h14c1.1 0 2-.9 2-2V5c0-1.1-.9-2-2-2zM9 17H7v-7h2v7zm4 0h-2V7h2v10zm4 0h-2v-4h2v4z\"/>\n",
              "    </g>\n",
              "</svg>\n",
              "      </button>\n",
              "\n",
              "<style>\n",
              "  .colab-df-quickchart {\n",
              "      --bg-color: #E8F0FE;\n",
              "      --fill-color: #1967D2;\n",
              "      --hover-bg-color: #E2EBFA;\n",
              "      --hover-fill-color: #174EA6;\n",
              "      --disabled-fill-color: #AAA;\n",
              "      --disabled-bg-color: #DDD;\n",
              "  }\n",
              "\n",
              "  [theme=dark] .colab-df-quickchart {\n",
              "      --bg-color: #3B4455;\n",
              "      --fill-color: #D2E3FC;\n",
              "      --hover-bg-color: #434B5C;\n",
              "      --hover-fill-color: #FFFFFF;\n",
              "      --disabled-bg-color: #3B4455;\n",
              "      --disabled-fill-color: #666;\n",
              "  }\n",
              "\n",
              "  .colab-df-quickchart {\n",
              "    background-color: var(--bg-color);\n",
              "    border: none;\n",
              "    border-radius: 50%;\n",
              "    cursor: pointer;\n",
              "    display: none;\n",
              "    fill: var(--fill-color);\n",
              "    height: 32px;\n",
              "    padding: 0;\n",
              "    width: 32px;\n",
              "  }\n",
              "\n",
              "  .colab-df-quickchart:hover {\n",
              "    background-color: var(--hover-bg-color);\n",
              "    box-shadow: 0 1px 2px rgba(60, 64, 67, 0.3), 0 1px 3px 1px rgba(60, 64, 67, 0.15);\n",
              "    fill: var(--button-hover-fill-color);\n",
              "  }\n",
              "\n",
              "  .colab-df-quickchart-complete:disabled,\n",
              "  .colab-df-quickchart-complete:disabled:hover {\n",
              "    background-color: var(--disabled-bg-color);\n",
              "    fill: var(--disabled-fill-color);\n",
              "    box-shadow: none;\n",
              "  }\n",
              "\n",
              "  .colab-df-spinner {\n",
              "    border: 2px solid var(--fill-color);\n",
              "    border-color: transparent;\n",
              "    border-bottom-color: var(--fill-color);\n",
              "    animation:\n",
              "      spin 1s steps(1) infinite;\n",
              "  }\n",
              "\n",
              "  @keyframes spin {\n",
              "    0% {\n",
              "      border-color: transparent;\n",
              "      border-bottom-color: var(--fill-color);\n",
              "      border-left-color: var(--fill-color);\n",
              "    }\n",
              "    20% {\n",
              "      border-color: transparent;\n",
              "      border-left-color: var(--fill-color);\n",
              "      border-top-color: var(--fill-color);\n",
              "    }\n",
              "    30% {\n",
              "      border-color: transparent;\n",
              "      border-left-color: var(--fill-color);\n",
              "      border-top-color: var(--fill-color);\n",
              "      border-right-color: var(--fill-color);\n",
              "    }\n",
              "    40% {\n",
              "      border-color: transparent;\n",
              "      border-right-color: var(--fill-color);\n",
              "      border-top-color: var(--fill-color);\n",
              "    }\n",
              "    60% {\n",
              "      border-color: transparent;\n",
              "      border-right-color: var(--fill-color);\n",
              "    }\n",
              "    80% {\n",
              "      border-color: transparent;\n",
              "      border-right-color: var(--fill-color);\n",
              "      border-bottom-color: var(--fill-color);\n",
              "    }\n",
              "    90% {\n",
              "      border-color: transparent;\n",
              "      border-bottom-color: var(--fill-color);\n",
              "    }\n",
              "  }\n",
              "</style>\n",
              "\n",
              "      <script>\n",
              "        async function quickchart(key) {\n",
              "          const quickchartButtonEl =\n",
              "            document.querySelector('#' + key + ' button');\n",
              "          quickchartButtonEl.disabled = true;  // To prevent multiple clicks.\n",
              "          quickchartButtonEl.classList.add('colab-df-spinner');\n",
              "          try {\n",
              "            const charts = await google.colab.kernel.invokeFunction(\n",
              "                'suggestCharts', [key], {});\n",
              "          } catch (error) {\n",
              "            console.error('Error during call to suggestCharts:', error);\n",
              "          }\n",
              "          quickchartButtonEl.classList.remove('colab-df-spinner');\n",
              "          quickchartButtonEl.classList.add('colab-df-quickchart-complete');\n",
              "        }\n",
              "        (() => {\n",
              "          let quickchartButtonEl =\n",
              "            document.querySelector('#df-eea47d71-f60b-4ead-93bd-a267b28b2def button');\n",
              "          quickchartButtonEl.style.display =\n",
              "            google.colab.kernel.accessAllowed ? 'block' : 'none';\n",
              "        })();\n",
              "      </script>\n",
              "    </div>\n",
              "\n",
              "    </div>\n",
              "  </div>\n"
            ],
            "application/vnd.google.colaboratory.intrinsic+json": {
              "type": "dataframe",
              "summary": "{\n  \"name\": \"print(f\\\"\\\\nTotal de {len(df_gcp_specs)} tipos de m\\u00e1quina encontrados para as zonas dispon\\u00edveis\",\n  \"rows\": 5,\n  \"fields\": [\n    {\n      \"column\": \"machineType\",\n      \"properties\": {\n        \"dtype\": \"string\",\n        \"num_unique_values\": 5,\n        \"samples\": [\n          \"a2-highgpu-2g\",\n          \"a4-highgpu-8g\",\n          \"a2-highgpu-4g\"\n        ],\n        \"semantic_type\": \"\",\n        \"description\": \"\"\n      }\n    },\n    {\n      \"column\": \"machineFamily\",\n      \"properties\": {\n        \"dtype\": \"category\",\n        \"num_unique_values\": 2,\n        \"samples\": [\n          \"A4\",\n          \"A2\"\n        ],\n        \"semantic_type\": \"\",\n        \"description\": \"\"\n      }\n    },\n    {\n      \"column\": \"numberOfCores\",\n      \"properties\": {\n        \"dtype\": \"number\",\n        \"std\": 86,\n        \"min\": 12,\n        \"max\": 224,\n        \"num_unique_values\": 5,\n        \"samples\": [\n          24,\n          224\n        ],\n        \"semantic_type\": \"\",\n        \"description\": \"\"\n      }\n    },\n    {\n      \"column\": \"memoryInMiB\",\n      \"properties\": {\n        \"dtype\": \"number\",\n        \"std\": 1687375,\n        \"min\": 87040,\n        \"max\": 4063232,\n        \"num_unique_values\": 5,\n        \"samples\": [\n          174080,\n          4063232\n        ],\n        \"semantic_type\": \"\",\n        \"description\": \"\"\n      }\n    },\n    {\n      \"column\": \"ephemeralDiskGiB\",\n      \"properties\": {\n        \"dtype\": \"number\",\n        \"std\": 0,\n        \"min\": 0,\n        \"max\": 0,\n        \"num_unique_values\": 1,\n        \"samples\": [\n          0\n        ],\n        \"semantic_type\": \"\",\n        \"description\": \"\"\n      }\n    },\n    {\n      \"column\": \"zone\",\n      \"properties\": {\n        \"dtype\": \"category\",\n        \"num_unique_values\": 1,\n        \"samples\": [\n          \"us-east1-b\"\n        ],\n        \"semantic_type\": \"\",\n        \"description\": \"\"\n      }\n    }\n  ]\n}"
            }
          },
          "metadata": {}
        },
        {
          "output_type": "stream",
          "name": "stdout",
          "text": [
            "\n",
            "Total de 25365 tipos de máquina encontrados para as zonas disponíveis.\n"
          ]
        }
      ]
    },
    {
      "cell_type": "code",
      "source": [
        "df_gcp_specs['regionCode'] = df_gcp_specs['zone'].str.slice(0,-2)\n",
        "df_gcp_specs.drop(columns='zone', inplace=True)\n",
        "df_gcp_specs.info()"
      ],
      "metadata": {
        "colab": {
          "base_uri": "https://localhost:8080/"
        },
        "id": "nF7YSAyc4bp5",
        "outputId": "0b8c3a4b-dca7-432f-e8e6-83e4cc18f06a"
      },
      "execution_count": null,
      "outputs": [
        {
          "output_type": "stream",
          "name": "stdout",
          "text": [
            "<class 'pandas.core.frame.DataFrame'>\n",
            "RangeIndex: 25365 entries, 0 to 25364\n",
            "Data columns (total 6 columns):\n",
            " #   Column            Non-Null Count  Dtype \n",
            "---  ------            --------------  ----- \n",
            " 0   machineType       25365 non-null  object\n",
            " 1   machineFamily     25365 non-null  object\n",
            " 2   numberOfCores     25365 non-null  int64 \n",
            " 3   memoryInMiB       25365 non-null  int64 \n",
            " 4   ephemeralDiskGiB  25365 non-null  int64 \n",
            " 5   regionCode        25365 non-null  object\n",
            "dtypes: int64(3), object(3)\n",
            "memory usage: 1.2+ MB\n"
          ]
        }
      ]
    },
    {
      "cell_type": "markdown",
      "source": [
        "### Requisição de skus da Google para VMs (custos)"
      ],
      "metadata": {
        "id": "yN8XvcfEp9S1"
      }
    },
    {
      "cell_type": "code",
      "source": [
        "api_url = \"https://cloudbilling.googleapis.com/v1/services/6F81-5844-456A/skus\"\n",
        "try:\n",
        "    # Gera/Atualiza o token de acesso\n",
        "    credentials.refresh(Request())\n",
        "    access_token = credentials.token\n",
        "\n",
        "    # Monta o cabeçalho de autorização (Bearer Token)\n",
        "    headers = {\n",
        "        'Authorization': f'Bearer {access_token}'\n",
        "    }\n",
        "\n",
        "    table_data = []\n",
        "    page_token = None\n",
        "    page_count = 0\n",
        "\n",
        "    print(\"Iniciando a coleta de dados do GCP (método manual com Bearer Token)...\")\n",
        "\n",
        "    while True:\n",
        "        page_count += 1\n",
        "        params = {}\n",
        "        if page_token:\n",
        "            params['pageToken'] = page_token\n",
        "\n",
        "        print(f\"Buscando página {page_count}...\")\n",
        "\n",
        "        # 4. Faz a requisição passando o cabeçalho de autorização\n",
        "        response = requests.get(api_url, headers=headers, params=params)\n",
        "        response.raise_for_status()\n",
        "\n",
        "        # ... (o resto do laço de processamento é igual) ...\n",
        "        json_data = response.json()\n",
        "        if 'skus' in json_data:\n",
        "            table_data.extend(json_data['skus'])\n",
        "        page_token = json_data.get('nextPageToken')\n",
        "        if not page_token:\n",
        "            break\n",
        "\n",
        "    print(f\"\\n-> Coleta de dados do GCP finalizada. Total de {len(table_data)} SKUs encontradas.\")\n",
        "    df_gcp_skus = pd.DataFrame(table_data)\n",
        "    df_gcp_skus.info()\n",
        "    display(df_gcp_skus.head())\n",
        "\n",
        "\n",
        "except FileNotFoundError:\n",
        "    print(f\"ERRO: Arquivo de credenciais '{SERVICE_ACCOUNT_FILE}' não encontrado.\")\n",
        "except Exception as e:\n",
        "    print(f\"Ocorreu um erro: {e}\")"
      ],
      "metadata": {
        "colab": {
          "base_uri": "https://localhost:8080/",
          "height": 968
        },
        "id": "WSJuwMIUqXFj",
        "outputId": "9733d3da-55e0-472f-d8d9-3a80c3afb45e"
      },
      "execution_count": null,
      "outputs": [
        {
          "output_type": "stream",
          "name": "stdout",
          "text": [
            "Iniciando a coleta de dados do GCP (método manual com Bearer Token)...\n",
            "Buscando página 1...\n",
            "Buscando página 2...\n",
            "Buscando página 3...\n",
            "Buscando página 4...\n",
            "Buscando página 5...\n",
            "Buscando página 6...\n",
            "\n",
            "-> Coleta de dados do GCP finalizada. Total de 28079 SKUs encontradas.\n",
            "<class 'pandas.core.frame.DataFrame'>\n",
            "RangeIndex: 28079 entries, 0 to 28078\n",
            "Data columns (total 8 columns):\n",
            " #   Column               Non-Null Count  Dtype \n",
            "---  ------               --------------  ----- \n",
            " 0   name                 28079 non-null  object\n",
            " 1   skuId                28079 non-null  object\n",
            " 2   description          28079 non-null  object\n",
            " 3   category             28079 non-null  object\n",
            " 4   serviceRegions       28079 non-null  object\n",
            " 5   pricingInfo          28079 non-null  object\n",
            " 6   serviceProviderName  28079 non-null  object\n",
            " 7   geoTaxonomy          28026 non-null  object\n",
            "dtypes: object(8)\n",
            "memory usage: 1.7+ MB\n"
          ]
        },
        {
          "output_type": "display_data",
          "data": {
            "text/plain": [
              "                                          name           skuId  \\\n",
              "0  services/6F81-5844-456A/skus/0001-FC8F-A9AF  0001-FC8F-A9AF   \n",
              "1  services/6F81-5844-456A/skus/0006-C9C8-BB6F  0006-C9C8-BB6F   \n",
              "2  services/6F81-5844-456A/skus/0007-9388-EF75  0007-9388-EF75   \n",
              "3  services/6F81-5844-456A/skus/0008-F633-76AA  0008-F633-76AA   \n",
              "4  services/6F81-5844-456A/skus/000F-0B14-D302  000F-0B14-D302   \n",
              "\n",
              "                                         description  \\\n",
              "0  Spot Preemptible E2 Custom Instance Core runni...   \n",
              "1  Commitment v1: Memory-optimized Cpu in Phoenix...   \n",
              "2  M4Ultramem224 Sole Tenancy Instance Ram runnin...   \n",
              "3  Nvidia L4 GPU attached to Spot Preemptible VMs...   \n",
              "4      C3 Sole Tenancy Instance Ram running in Turin   \n",
              "\n",
              "                                            category  \\\n",
              "0  {'serviceDisplayName': 'Compute Engine', 'reso...   \n",
              "1  {'serviceDisplayName': 'Compute Engine', 'reso...   \n",
              "2  {'serviceDisplayName': 'Compute Engine', 'reso...   \n",
              "3  {'serviceDisplayName': 'Compute Engine', 'reso...   \n",
              "4  {'serviceDisplayName': 'Compute Engine', 'reso...   \n",
              "\n",
              "              serviceRegions  \\\n",
              "0             [europe-west9]   \n",
              "1                 [us-west8]   \n",
              "2  [northamerica-northeast2]   \n",
              "3               [asia-east2]   \n",
              "4            [europe-west12]   \n",
              "\n",
              "                                         pricingInfo serviceProviderName  \\\n",
              "0  [{'summary': '', 'pricingExpression': {'usageU...              Google   \n",
              "1  [{'summary': '', 'pricingExpression': {'usageU...              Google   \n",
              "2  [{'summary': '', 'pricingExpression': {'usageU...              Google   \n",
              "3  [{'summary': '', 'pricingExpression': {'usageU...              Google   \n",
              "4  [{'summary': '', 'pricingExpression': {'usageU...              Google   \n",
              "\n",
              "                                         geoTaxonomy  \n",
              "0  {'type': 'REGIONAL', 'regions': ['europe-west9']}  \n",
              "1      {'type': 'REGIONAL', 'regions': ['us-west8']}  \n",
              "2  {'type': 'REGIONAL', 'regions': ['northamerica...  \n",
              "3    {'type': 'REGIONAL', 'regions': ['asia-east2']}  \n",
              "4  {'type': 'REGIONAL', 'regions': ['europe-west1...  "
            ],
            "text/html": [
              "\n",
              "  <div id=\"df-f48cc3e9-ceca-461f-ab80-58ec99afd97c\" class=\"colab-df-container\">\n",
              "    <div>\n",
              "<style scoped>\n",
              "    .dataframe tbody tr th:only-of-type {\n",
              "        vertical-align: middle;\n",
              "    }\n",
              "\n",
              "    .dataframe tbody tr th {\n",
              "        vertical-align: top;\n",
              "    }\n",
              "\n",
              "    .dataframe thead th {\n",
              "        text-align: right;\n",
              "    }\n",
              "</style>\n",
              "<table border=\"1\" class=\"dataframe\">\n",
              "  <thead>\n",
              "    <tr style=\"text-align: right;\">\n",
              "      <th></th>\n",
              "      <th>name</th>\n",
              "      <th>skuId</th>\n",
              "      <th>description</th>\n",
              "      <th>category</th>\n",
              "      <th>serviceRegions</th>\n",
              "      <th>pricingInfo</th>\n",
              "      <th>serviceProviderName</th>\n",
              "      <th>geoTaxonomy</th>\n",
              "    </tr>\n",
              "  </thead>\n",
              "  <tbody>\n",
              "    <tr>\n",
              "      <th>0</th>\n",
              "      <td>services/6F81-5844-456A/skus/0001-FC8F-A9AF</td>\n",
              "      <td>0001-FC8F-A9AF</td>\n",
              "      <td>Spot Preemptible E2 Custom Instance Core runni...</td>\n",
              "      <td>{'serviceDisplayName': 'Compute Engine', 'reso...</td>\n",
              "      <td>[europe-west9]</td>\n",
              "      <td>[{'summary': '', 'pricingExpression': {'usageU...</td>\n",
              "      <td>Google</td>\n",
              "      <td>{'type': 'REGIONAL', 'regions': ['europe-west9']}</td>\n",
              "    </tr>\n",
              "    <tr>\n",
              "      <th>1</th>\n",
              "      <td>services/6F81-5844-456A/skus/0006-C9C8-BB6F</td>\n",
              "      <td>0006-C9C8-BB6F</td>\n",
              "      <td>Commitment v1: Memory-optimized Cpu in Phoenix...</td>\n",
              "      <td>{'serviceDisplayName': 'Compute Engine', 'reso...</td>\n",
              "      <td>[us-west8]</td>\n",
              "      <td>[{'summary': '', 'pricingExpression': {'usageU...</td>\n",
              "      <td>Google</td>\n",
              "      <td>{'type': 'REGIONAL', 'regions': ['us-west8']}</td>\n",
              "    </tr>\n",
              "    <tr>\n",
              "      <th>2</th>\n",
              "      <td>services/6F81-5844-456A/skus/0007-9388-EF75</td>\n",
              "      <td>0007-9388-EF75</td>\n",
              "      <td>M4Ultramem224 Sole Tenancy Instance Ram runnin...</td>\n",
              "      <td>{'serviceDisplayName': 'Compute Engine', 'reso...</td>\n",
              "      <td>[northamerica-northeast2]</td>\n",
              "      <td>[{'summary': '', 'pricingExpression': {'usageU...</td>\n",
              "      <td>Google</td>\n",
              "      <td>{'type': 'REGIONAL', 'regions': ['northamerica...</td>\n",
              "    </tr>\n",
              "    <tr>\n",
              "      <th>3</th>\n",
              "      <td>services/6F81-5844-456A/skus/0008-F633-76AA</td>\n",
              "      <td>0008-F633-76AA</td>\n",
              "      <td>Nvidia L4 GPU attached to Spot Preemptible VMs...</td>\n",
              "      <td>{'serviceDisplayName': 'Compute Engine', 'reso...</td>\n",
              "      <td>[asia-east2]</td>\n",
              "      <td>[{'summary': '', 'pricingExpression': {'usageU...</td>\n",
              "      <td>Google</td>\n",
              "      <td>{'type': 'REGIONAL', 'regions': ['asia-east2']}</td>\n",
              "    </tr>\n",
              "    <tr>\n",
              "      <th>4</th>\n",
              "      <td>services/6F81-5844-456A/skus/000F-0B14-D302</td>\n",
              "      <td>000F-0B14-D302</td>\n",
              "      <td>C3 Sole Tenancy Instance Ram running in Turin</td>\n",
              "      <td>{'serviceDisplayName': 'Compute Engine', 'reso...</td>\n",
              "      <td>[europe-west12]</td>\n",
              "      <td>[{'summary': '', 'pricingExpression': {'usageU...</td>\n",
              "      <td>Google</td>\n",
              "      <td>{'type': 'REGIONAL', 'regions': ['europe-west1...</td>\n",
              "    </tr>\n",
              "  </tbody>\n",
              "</table>\n",
              "</div>\n",
              "    <div class=\"colab-df-buttons\">\n",
              "\n",
              "  <div class=\"colab-df-container\">\n",
              "    <button class=\"colab-df-convert\" onclick=\"convertToInteractive('df-f48cc3e9-ceca-461f-ab80-58ec99afd97c')\"\n",
              "            title=\"Convert this dataframe to an interactive table.\"\n",
              "            style=\"display:none;\">\n",
              "\n",
              "  <svg xmlns=\"http://www.w3.org/2000/svg\" height=\"24px\" viewBox=\"0 -960 960 960\">\n",
              "    <path d=\"M120-120v-720h720v720H120Zm60-500h600v-160H180v160Zm220 220h160v-160H400v160Zm0 220h160v-160H400v160ZM180-400h160v-160H180v160Zm440 0h160v-160H620v160ZM180-180h160v-160H180v160Zm440 0h160v-160H620v160Z\"/>\n",
              "  </svg>\n",
              "    </button>\n",
              "\n",
              "  <style>\n",
              "    .colab-df-container {\n",
              "      display:flex;\n",
              "      gap: 12px;\n",
              "    }\n",
              "\n",
              "    .colab-df-convert {\n",
              "      background-color: #E8F0FE;\n",
              "      border: none;\n",
              "      border-radius: 50%;\n",
              "      cursor: pointer;\n",
              "      display: none;\n",
              "      fill: #1967D2;\n",
              "      height: 32px;\n",
              "      padding: 0 0 0 0;\n",
              "      width: 32px;\n",
              "    }\n",
              "\n",
              "    .colab-df-convert:hover {\n",
              "      background-color: #E2EBFA;\n",
              "      box-shadow: 0px 1px 2px rgba(60, 64, 67, 0.3), 0px 1px 3px 1px rgba(60, 64, 67, 0.15);\n",
              "      fill: #174EA6;\n",
              "    }\n",
              "\n",
              "    .colab-df-buttons div {\n",
              "      margin-bottom: 4px;\n",
              "    }\n",
              "\n",
              "    [theme=dark] .colab-df-convert {\n",
              "      background-color: #3B4455;\n",
              "      fill: #D2E3FC;\n",
              "    }\n",
              "\n",
              "    [theme=dark] .colab-df-convert:hover {\n",
              "      background-color: #434B5C;\n",
              "      box-shadow: 0px 1px 3px 1px rgba(0, 0, 0, 0.15);\n",
              "      filter: drop-shadow(0px 1px 2px rgba(0, 0, 0, 0.3));\n",
              "      fill: #FFFFFF;\n",
              "    }\n",
              "  </style>\n",
              "\n",
              "    <script>\n",
              "      const buttonEl =\n",
              "        document.querySelector('#df-f48cc3e9-ceca-461f-ab80-58ec99afd97c button.colab-df-convert');\n",
              "      buttonEl.style.display =\n",
              "        google.colab.kernel.accessAllowed ? 'block' : 'none';\n",
              "\n",
              "      async function convertToInteractive(key) {\n",
              "        const element = document.querySelector('#df-f48cc3e9-ceca-461f-ab80-58ec99afd97c');\n",
              "        const dataTable =\n",
              "          await google.colab.kernel.invokeFunction('convertToInteractive',\n",
              "                                                    [key], {});\n",
              "        if (!dataTable) return;\n",
              "\n",
              "        const docLinkHtml = 'Like what you see? Visit the ' +\n",
              "          '<a target=\"_blank\" href=https://colab.research.google.com/notebooks/data_table.ipynb>data table notebook</a>'\n",
              "          + ' to learn more about interactive tables.';\n",
              "        element.innerHTML = '';\n",
              "        dataTable['output_type'] = 'display_data';\n",
              "        await google.colab.output.renderOutput(dataTable, element);\n",
              "        const docLink = document.createElement('div');\n",
              "        docLink.innerHTML = docLinkHtml;\n",
              "        element.appendChild(docLink);\n",
              "      }\n",
              "    </script>\n",
              "  </div>\n",
              "\n",
              "\n",
              "    <div id=\"df-78923fb9-7ab0-4ebc-8042-b50ff7bd37f8\">\n",
              "      <button class=\"colab-df-quickchart\" onclick=\"quickchart('df-78923fb9-7ab0-4ebc-8042-b50ff7bd37f8')\"\n",
              "                title=\"Suggest charts\"\n",
              "                style=\"display:none;\">\n",
              "\n",
              "<svg xmlns=\"http://www.w3.org/2000/svg\" height=\"24px\"viewBox=\"0 0 24 24\"\n",
              "     width=\"24px\">\n",
              "    <g>\n",
              "        <path d=\"M19 3H5c-1.1 0-2 .9-2 2v14c0 1.1.9 2 2 2h14c1.1 0 2-.9 2-2V5c0-1.1-.9-2-2-2zM9 17H7v-7h2v7zm4 0h-2V7h2v10zm4 0h-2v-4h2v4z\"/>\n",
              "    </g>\n",
              "</svg>\n",
              "      </button>\n",
              "\n",
              "<style>\n",
              "  .colab-df-quickchart {\n",
              "      --bg-color: #E8F0FE;\n",
              "      --fill-color: #1967D2;\n",
              "      --hover-bg-color: #E2EBFA;\n",
              "      --hover-fill-color: #174EA6;\n",
              "      --disabled-fill-color: #AAA;\n",
              "      --disabled-bg-color: #DDD;\n",
              "  }\n",
              "\n",
              "  [theme=dark] .colab-df-quickchart {\n",
              "      --bg-color: #3B4455;\n",
              "      --fill-color: #D2E3FC;\n",
              "      --hover-bg-color: #434B5C;\n",
              "      --hover-fill-color: #FFFFFF;\n",
              "      --disabled-bg-color: #3B4455;\n",
              "      --disabled-fill-color: #666;\n",
              "  }\n",
              "\n",
              "  .colab-df-quickchart {\n",
              "    background-color: var(--bg-color);\n",
              "    border: none;\n",
              "    border-radius: 50%;\n",
              "    cursor: pointer;\n",
              "    display: none;\n",
              "    fill: var(--fill-color);\n",
              "    height: 32px;\n",
              "    padding: 0;\n",
              "    width: 32px;\n",
              "  }\n",
              "\n",
              "  .colab-df-quickchart:hover {\n",
              "    background-color: var(--hover-bg-color);\n",
              "    box-shadow: 0 1px 2px rgba(60, 64, 67, 0.3), 0 1px 3px 1px rgba(60, 64, 67, 0.15);\n",
              "    fill: var(--button-hover-fill-color);\n",
              "  }\n",
              "\n",
              "  .colab-df-quickchart-complete:disabled,\n",
              "  .colab-df-quickchart-complete:disabled:hover {\n",
              "    background-color: var(--disabled-bg-color);\n",
              "    fill: var(--disabled-fill-color);\n",
              "    box-shadow: none;\n",
              "  }\n",
              "\n",
              "  .colab-df-spinner {\n",
              "    border: 2px solid var(--fill-color);\n",
              "    border-color: transparent;\n",
              "    border-bottom-color: var(--fill-color);\n",
              "    animation:\n",
              "      spin 1s steps(1) infinite;\n",
              "  }\n",
              "\n",
              "  @keyframes spin {\n",
              "    0% {\n",
              "      border-color: transparent;\n",
              "      border-bottom-color: var(--fill-color);\n",
              "      border-left-color: var(--fill-color);\n",
              "    }\n",
              "    20% {\n",
              "      border-color: transparent;\n",
              "      border-left-color: var(--fill-color);\n",
              "      border-top-color: var(--fill-color);\n",
              "    }\n",
              "    30% {\n",
              "      border-color: transparent;\n",
              "      border-left-color: var(--fill-color);\n",
              "      border-top-color: var(--fill-color);\n",
              "      border-right-color: var(--fill-color);\n",
              "    }\n",
              "    40% {\n",
              "      border-color: transparent;\n",
              "      border-right-color: var(--fill-color);\n",
              "      border-top-color: var(--fill-color);\n",
              "    }\n",
              "    60% {\n",
              "      border-color: transparent;\n",
              "      border-right-color: var(--fill-color);\n",
              "    }\n",
              "    80% {\n",
              "      border-color: transparent;\n",
              "      border-right-color: var(--fill-color);\n",
              "      border-bottom-color: var(--fill-color);\n",
              "    }\n",
              "    90% {\n",
              "      border-color: transparent;\n",
              "      border-bottom-color: var(--fill-color);\n",
              "    }\n",
              "  }\n",
              "</style>\n",
              "\n",
              "      <script>\n",
              "        async function quickchart(key) {\n",
              "          const quickchartButtonEl =\n",
              "            document.querySelector('#' + key + ' button');\n",
              "          quickchartButtonEl.disabled = true;  // To prevent multiple clicks.\n",
              "          quickchartButtonEl.classList.add('colab-df-spinner');\n",
              "          try {\n",
              "            const charts = await google.colab.kernel.invokeFunction(\n",
              "                'suggestCharts', [key], {});\n",
              "          } catch (error) {\n",
              "            console.error('Error during call to suggestCharts:', error);\n",
              "          }\n",
              "          quickchartButtonEl.classList.remove('colab-df-spinner');\n",
              "          quickchartButtonEl.classList.add('colab-df-quickchart-complete');\n",
              "        }\n",
              "        (() => {\n",
              "          let quickchartButtonEl =\n",
              "            document.querySelector('#df-78923fb9-7ab0-4ebc-8042-b50ff7bd37f8 button');\n",
              "          quickchartButtonEl.style.display =\n",
              "            google.colab.kernel.accessAllowed ? 'block' : 'none';\n",
              "        })();\n",
              "      </script>\n",
              "    </div>\n",
              "\n",
              "    </div>\n",
              "  </div>\n"
            ],
            "application/vnd.google.colaboratory.intrinsic+json": {
              "type": "dataframe",
              "summary": "{\n  \"name\": \"    print(f\\\"Ocorreu um erro: {e}\\\")\",\n  \"rows\": 5,\n  \"fields\": [\n    {\n      \"column\": \"name\",\n      \"properties\": {\n        \"dtype\": \"string\",\n        \"num_unique_values\": 5,\n        \"samples\": [\n          \"services/6F81-5844-456A/skus/0006-C9C8-BB6F\",\n          \"services/6F81-5844-456A/skus/000F-0B14-D302\",\n          \"services/6F81-5844-456A/skus/0007-9388-EF75\"\n        ],\n        \"semantic_type\": \"\",\n        \"description\": \"\"\n      }\n    },\n    {\n      \"column\": \"skuId\",\n      \"properties\": {\n        \"dtype\": \"string\",\n        \"num_unique_values\": 5,\n        \"samples\": [\n          \"0006-C9C8-BB6F\",\n          \"000F-0B14-D302\",\n          \"0007-9388-EF75\"\n        ],\n        \"semantic_type\": \"\",\n        \"description\": \"\"\n      }\n    },\n    {\n      \"column\": \"description\",\n      \"properties\": {\n        \"dtype\": \"string\",\n        \"num_unique_values\": 5,\n        \"samples\": [\n          \"Commitment v1: Memory-optimized Cpu in Phoenix for 1 Year\",\n          \"C3 Sole Tenancy Instance Ram running in Turin\",\n          \"M4Ultramem224 Sole Tenancy Instance Ram running in Toronto\"\n        ],\n        \"semantic_type\": \"\",\n        \"description\": \"\"\n      }\n    },\n    {\n      \"column\": \"category\",\n      \"properties\": {\n        \"dtype\": \"object\",\n        \"semantic_type\": \"\",\n        \"description\": \"\"\n      }\n    },\n    {\n      \"column\": \"serviceRegions\",\n      \"properties\": {\n        \"dtype\": \"object\",\n        \"semantic_type\": \"\",\n        \"description\": \"\"\n      }\n    },\n    {\n      \"column\": \"pricingInfo\",\n      \"properties\": {\n        \"dtype\": \"object\",\n        \"semantic_type\": \"\",\n        \"description\": \"\"\n      }\n    },\n    {\n      \"column\": \"serviceProviderName\",\n      \"properties\": {\n        \"dtype\": \"category\",\n        \"num_unique_values\": 1,\n        \"samples\": [\n          \"Google\"\n        ],\n        \"semantic_type\": \"\",\n        \"description\": \"\"\n      }\n    },\n    {\n      \"column\": \"geoTaxonomy\",\n      \"properties\": {\n        \"dtype\": \"object\",\n        \"semantic_type\": \"\",\n        \"description\": \"\"\n      }\n    }\n  ]\n}"
            }
          },
          "metadata": {}
        }
      ]
    },
    {
      "cell_type": "markdown",
      "source": [
        "#### Tratamento das informações de SKUs"
      ],
      "metadata": {
        "id": "u-aBkCQiTqNV"
      }
    },
    {
      "cell_type": "code",
      "source": [
        "# Informações sobre a categoria do serviço\n",
        "df_gcp_skus['serviceName'] = df_gcp_skus['category'].apply(lambda x: x['serviceDisplayName'])\n",
        "df_gcp_skus['resourceType'] = df_gcp_skus['category'].apply(lambda x: x['resourceFamily'])\n",
        "df_gcp_skus['resourceName'] = df_gcp_skus['category'].apply(lambda x: x['resourceGroup'])\n",
        "df_gcp_skus['usage'] = df_gcp_skus['category'].apply(lambda x: x['usageType']) # On-Demand / Reservation\n",
        "\n",
        "df_gcp_skus.drop(columns='category', inplace=True)\n",
        "df_gcp_skus.info()"
      ],
      "metadata": {
        "colab": {
          "base_uri": "https://localhost:8080/"
        },
        "id": "Kk02rkuIKpbx",
        "outputId": "e4f49ea0-99ea-4b96-d3e6-dbfc79f2de63"
      },
      "execution_count": null,
      "outputs": [
        {
          "output_type": "stream",
          "name": "stdout",
          "text": [
            "<class 'pandas.core.frame.DataFrame'>\n",
            "RangeIndex: 28079 entries, 0 to 28078\n",
            "Data columns (total 11 columns):\n",
            " #   Column               Non-Null Count  Dtype \n",
            "---  ------               --------------  ----- \n",
            " 0   name                 28079 non-null  object\n",
            " 1   skuId                28079 non-null  object\n",
            " 2   description          28079 non-null  object\n",
            " 3   serviceRegions       28079 non-null  object\n",
            " 4   pricingInfo          28079 non-null  object\n",
            " 5   serviceProviderName  28079 non-null  object\n",
            " 6   geoTaxonomy          28026 non-null  object\n",
            " 7   serviceName          28079 non-null  object\n",
            " 8   resourceType         28079 non-null  object\n",
            " 9   resourceName         28079 non-null  object\n",
            " 10  usage                28079 non-null  object\n",
            "dtypes: object(11)\n",
            "memory usage: 2.4+ MB\n"
          ]
        }
      ]
    },
    {
      "cell_type": "code",
      "source": [
        "# Eliminando registros de skus cujo modelo de cobrança não será objeto de análise na presente investigação\n",
        "df_gcp_skus = df_gcp_skus.loc[\n",
        "    ~df_gcp_skus['usage'].isin(['Preemptible', 'Commit1Mo', 'CmtCudPremium'])\n",
        "    ]\n",
        "\n",
        "df_gcp_skus['usage'].unique()"
      ],
      "metadata": {
        "colab": {
          "base_uri": "https://localhost:8080/"
        },
        "id": "t6vnxIBAWIaD",
        "outputId": "c2075e34-32c5-4796-effd-9b994456dc7b"
      },
      "execution_count": null,
      "outputs": [
        {
          "output_type": "execute_result",
          "data": {
            "text/plain": [
              "array(['Commit1Yr', 'OnDemand', 'Commit3Yr'], dtype=object)"
            ]
          },
          "metadata": {},
          "execution_count": 23
        }
      ]
    },
    {
      "cell_type": "code",
      "source": [
        "# Informações sobre a localização (região) do serviço\n",
        "df_gcp_skus['region'] = df_gcp_skus['serviceRegions'].apply(lambda x: x[0])\n",
        "df_gcp_skus.drop(columns=['serviceRegions', 'geoTaxonomy'], inplace=True)\n",
        "df_gcp_skus.info()"
      ],
      "metadata": {
        "colab": {
          "base_uri": "https://localhost:8080/"
        },
        "id": "BLEt6i-lQhyv",
        "outputId": "7ee6d27e-44a5-45c9-e15f-9361d70636f0"
      },
      "execution_count": null,
      "outputs": [
        {
          "output_type": "stream",
          "name": "stdout",
          "text": [
            "<class 'pandas.core.frame.DataFrame'>\n",
            "Index: 24649 entries, 1 to 28078\n",
            "Data columns (total 10 columns):\n",
            " #   Column               Non-Null Count  Dtype \n",
            "---  ------               --------------  ----- \n",
            " 0   name                 24649 non-null  object\n",
            " 1   skuId                24649 non-null  object\n",
            " 2   description          24649 non-null  object\n",
            " 3   pricingInfo          24649 non-null  object\n",
            " 4   serviceProviderName  24649 non-null  object\n",
            " 5   serviceName          24649 non-null  object\n",
            " 6   resourceType         24649 non-null  object\n",
            " 7   resourceName         24649 non-null  object\n",
            " 8   usage                24649 non-null  object\n",
            " 9   region               24649 non-null  object\n",
            "dtypes: object(10)\n",
            "memory usage: 2.1+ MB\n"
          ]
        },
        {
          "output_type": "stream",
          "name": "stderr",
          "text": [
            "/tmp/ipython-input-24-3738931337.py:2: SettingWithCopyWarning: \n",
            "A value is trying to be set on a copy of a slice from a DataFrame.\n",
            "Try using .loc[row_indexer,col_indexer] = value instead\n",
            "\n",
            "See the caveats in the documentation: https://pandas.pydata.org/pandas-docs/stable/user_guide/indexing.html#returning-a-view-versus-a-copy\n",
            "  df_gcp_skus['region'] = df_gcp_skus['serviceRegions'].apply(lambda x: x[0])\n",
            "/tmp/ipython-input-24-3738931337.py:3: SettingWithCopyWarning: \n",
            "A value is trying to be set on a copy of a slice from a DataFrame\n",
            "\n",
            "See the caveats in the documentation: https://pandas.pydata.org/pandas-docs/stable/user_guide/indexing.html#returning-a-view-versus-a-copy\n",
            "  df_gcp_skus.drop(columns=['serviceRegions', 'geoTaxonomy'], inplace=True)\n"
          ]
        }
      ]
    },
    {
      "cell_type": "code",
      "source": [
        "# Eliminando registros de skus cujo localização não será objeto de análise na presente investigação\n",
        "df_gcp_skus = df_gcp_skus.loc[df_gcp_skus['region'] != 'global']"
      ],
      "metadata": {
        "id": "YpuU5KgoVP8u"
      },
      "execution_count": null,
      "outputs": []
    },
    {
      "cell_type": "code",
      "source": [
        "# Informações sobre custo por hora - Definição da Função\n",
        "def extrair_preco_horario(pricing_info):\n",
        "    try:\n",
        "        # Acessa o primeiro item da lista 'pricingInfo'\n",
        "        rates = pricing_info[0]['pricingExpression']['tieredRates']\n",
        "        # Acessa o primeiro nível de preço na lista 'tieredRates'\n",
        "        unit_price = rates[0]['unitPrice']\n",
        "\n",
        "        # Pega os valores de 'units' e 'nanos'. Usa .get(key, 0) para retornar 0 se a chave não existir.\n",
        "        units = int(unit_price.get('units', 0))\n",
        "        nanos = int(unit_price.get('nanos', 0))\n",
        "\n",
        "        # Retorna o preço final calculado\n",
        "        return (units + nanos / 1_000_000_000)\n",
        "    except (TypeError, IndexError, KeyError):\n",
        "        # Se qualquer parte da estrutura estiver faltando ou for diferente, retorna Nulo\n",
        "        return None"
      ],
      "metadata": {
        "id": "sdjCJ1lphEH8"
      },
      "execution_count": null,
      "outputs": []
    },
    {
      "cell_type": "code",
      "source": [
        "# Informações sobre custo por hora - Aplicação da Função\n",
        "df_gcp_skus['hourPrice'] = df_gcp_skus['pricingInfo'].apply(extrair_preco_horario)\n",
        "df_gcp_skus.info()"
      ],
      "metadata": {
        "colab": {
          "base_uri": "https://localhost:8080/"
        },
        "id": "Z_Qp8GU0is2-",
        "outputId": "c87b3d80-b000-419e-8d20-eb8e3cc64916"
      },
      "execution_count": null,
      "outputs": [
        {
          "output_type": "stream",
          "name": "stdout",
          "text": [
            "<class 'pandas.core.frame.DataFrame'>\n",
            "Index: 23488 entries, 1 to 28078\n",
            "Data columns (total 11 columns):\n",
            " #   Column               Non-Null Count  Dtype  \n",
            "---  ------               --------------  -----  \n",
            " 0   name                 23488 non-null  object \n",
            " 1   skuId                23488 non-null  object \n",
            " 2   description          23488 non-null  object \n",
            " 3   pricingInfo          23488 non-null  object \n",
            " 4   serviceProviderName  23488 non-null  object \n",
            " 5   serviceName          23488 non-null  object \n",
            " 6   resourceType         23488 non-null  object \n",
            " 7   resourceName         23488 non-null  object \n",
            " 8   usage                23488 non-null  object \n",
            " 9   region               23488 non-null  object \n",
            " 10  hourPrice            23487 non-null  float64\n",
            "dtypes: float64(1), object(10)\n",
            "memory usage: 2.2+ MB\n"
          ]
        },
        {
          "output_type": "stream",
          "name": "stderr",
          "text": [
            "/tmp/ipython-input-27-2710857582.py:2: SettingWithCopyWarning: \n",
            "A value is trying to be set on a copy of a slice from a DataFrame.\n",
            "Try using .loc[row_indexer,col_indexer] = value instead\n",
            "\n",
            "See the caveats in the documentation: https://pandas.pydata.org/pandas-docs/stable/user_guide/indexing.html#returning-a-view-versus-a-copy\n",
            "  df_gcp_skus['hourPrice'] = df_gcp_skus['pricingInfo'].apply(extrair_preco_horario)\n"
          ]
        }
      ]
    },
    {
      "cell_type": "markdown",
      "source": [
        "### Estruturando o Dataframe"
      ],
      "metadata": {
        "id": "3vWYGN7h2Wt0"
      }
    },
    {
      "cell_type": "code",
      "source": [
        "print(\"--- Bloco 1: Preparando os Catálogos de Preços (On-Demand e Reserva) ---\")\n",
        "\n",
        "# 1. Isola os preços de CPU para o modelo On-Demand\n",
        "# CORREÇÃO: Usamos o campo 'category.usageType' para um filtro preciso.\n",
        "df_cpu_ondemand = df_gcp_skus[\n",
        "    (df_gcp_skus['resourceName'] == 'CPU') &\n",
        "    (df_gcp_skus['usage'] == 'OnDemand')\n",
        "].copy()\n",
        "\n",
        "# 2. Isola os preços de RAM para o modelo On-Demand\n",
        "# CORREÇÃO: Usamos o campo 'category.usageType' aqui também.\n",
        "df_ram_ondemand = df_gcp_skus[\n",
        "    (df_gcp_skus['resourceName'] == 'RAM') &\n",
        "    (df_gcp_skus['usage'] == 'OnDemand')\n",
        "].copy()\n",
        "\n",
        "# CUDs de 1 Ano\n",
        "df_cpu_1yr = df_gcp_skus[\n",
        "    (df_gcp_skus['resourceName'] == 'CPU') &\n",
        "    (df_gcp_skus['usage'] == 'Commit1Yr')\n",
        "].copy()\n",
        "\n",
        "df_ram_1yr = df_gcp_skus[\n",
        "    (df_gcp_skus['resourceName'] == 'RAM') &\n",
        "    (df_gcp_skus['usage'] == 'Commit1Yr')\n",
        "].copy()\n",
        "\n",
        "# CUDs de 3 Anos\n",
        "df_cpu_3yr = df_gcp_skus[\n",
        "    (df_gcp_skus['resourceName'] == 'CPU') &\n",
        "    (df_gcp_skus['usage'] == 'Commit3Yr')\n",
        "].copy()\n",
        "\n",
        "df_ram_3yr = df_gcp_skus[\n",
        "    (df_gcp_skus['resourceName'] == 'RAM') &\n",
        "    (df_gcp_skus['usage'] == 'Commit3Yr')\n",
        "].copy()\n",
        "\n",
        "print(\"Catálogos de preços para On-Demand, CUD 1 Ano e CUD 3 Anos foram criados.\")\n",
        "print(f\"Total de SKUs de CPU On-Demand: {len(df_cpu_ondemand)}\")\n",
        "print(f\"Total de SKUs de CPU CUD 1 Ano: {len(df_cpu_1yr)}\")\n",
        "print(f\"Total de SKUs de CPU CUD 3 Anos: {len(df_cpu_3yr)}\")\n",
        "print(f\"Total de SKUs de RAM On-Demand: {len(df_ram_ondemand)}\")\n",
        "print(f\"Total de SKUs de RAM CUD 1 Ano: {len(df_ram_1yr)}\")\n",
        "print(f\"Total de SKUs de RAM CUD 3 Anos: {len(df_ram_3yr)}\")"
      ],
      "metadata": {
        "colab": {
          "base_uri": "https://localhost:8080/"
        },
        "id": "K7Q0_06W2MuA",
        "outputId": "e0ea1cba-6003-41fb-bbb4-d0beb57bd96d"
      },
      "execution_count": null,
      "outputs": [
        {
          "output_type": "stream",
          "name": "stdout",
          "text": [
            "--- Bloco 1: Preparando os Catálogos de Preços (On-Demand e Reserva) ---\n",
            "Catálogos de preços para On-Demand, CUD 1 Ano e CUD 3 Anos foram criados.\n",
            "Total de SKUs de CPU On-Demand: 2743\n",
            "Total de SKUs de CPU CUD 1 Ano: 827\n",
            "Total de SKUs de CPU CUD 3 Anos: 827\n",
            "Total de SKUs de RAM On-Demand: 2894\n",
            "Total de SKUs de RAM CUD 1 Ano: 827\n",
            "Total de SKUs de RAM CUD 3 Anos: 827\n"
          ]
        }
      ]
    },
    {
      "cell_type": "code",
      "source": [
        "# Armazena os dataframes de preços em dicionários para fácil acesso\n",
        "cpu_prices = {'OnDemand': df_cpu_ondemand, '1yr': df_cpu_1yr, '3yr': df_cpu_3yr}\n",
        "ram_prices = {'OnDemand': df_ram_ondemand, '1yr': df_ram_1yr, '3yr': df_ram_3yr}"
      ],
      "metadata": {
        "id": "Jj1emAJOdogP"
      },
      "execution_count": null,
      "outputs": []
    },
    {
      "cell_type": "code",
      "source": [
        "for _, row in df_gcp_skus.loc[df_gcp_skus['resourceName'] == 'CPU'].head().iterrows():\n",
        "    print(row['description'])"
      ],
      "metadata": {
        "colab": {
          "base_uri": "https://localhost:8080/"
        },
        "id": "J4trYbByDOkF",
        "outputId": "24c5804f-b5f8-4f5f-ade1-540f8fe28c40"
      },
      "execution_count": null,
      "outputs": [
        {
          "output_type": "stream",
          "name": "stdout",
          "text": [
            "Commitment v1: Memory-optimized Cpu in Phoenix for 1 Year\n",
            "Commitment v1: Cpu in Montreal for 1 Year\n",
            "Sole Tenancy Premium for N2D AMD Sole Tenancy Instance Core running in Columbus\n",
            "DWS Defined Duration G2 Core running in Alabama\n",
            "Commitment v1: C3D Cpu in Paris for 1 Year\n"
          ]
        }
      ]
    },
    {
      "cell_type": "code",
      "source": [
        "# --- Bloco 2: Função de Cálculo Final ---\n",
        "def calcular_preco_vm_gcp(row, tipo_cobranca='OnDemand'):\n",
        "    \"\"\"\n",
        "    Calcula o preço de uma VM para um tipo de cobrança específico (OnDemand, 1yr, 3yr).\n",
        "    \"\"\"\n",
        "    familia = row['machineFamily']\n",
        "    regiao = row['regionCode']\n",
        "    num_cpus = row['numberOfCores']\n",
        "    ram_gb = row['memoryInMiB'] / 1024\n",
        "\n",
        "    # Seleciona o catálogo de preços correto com base no tipo_cobranca\n",
        "    df_cpu = cpu_prices.get(tipo_cobranca)\n",
        "    df_ram = ram_prices.get(tipo_cobranca)\n",
        "\n",
        "    if df_cpu is None or df_ram is None:\n",
        "        return None # Tipo de cobrança inválido\n",
        "\n",
        "    # --- Busca Preço da CPU ---\n",
        "    # O padrão de busca muda ligeiramente para CUDs\n",
        "    filtro_cpu = (df_cpu['description'].str.contains(familia, na=False)) & \\\n",
        "                 (df_cpu['region'].apply(lambda x: regiao in x))\n",
        "    preco_cpu_val = df_cpu.loc[filtro_cpu, 'hourPrice'].values\n",
        "    preco_cpu = preco_cpu_val[0] if len(preco_cpu_val) > 0 else None\n",
        "\n",
        "    # --- Busca Preço da RAM ---\n",
        "    filtro_ram = (df_ram['description'].str.contains(familia, na=False)) & \\\n",
        "                 (df_ram['region'].apply(lambda x: regiao in x))\n",
        "    preco_ram_val = df_ram.loc[filtro_ram, 'hourPrice'].values\n",
        "    preco_ram = preco_ram_val[0] if len(preco_ram_val) > 0 else None\n",
        "\n",
        "    # --- Calcula o Preço ---\n",
        "    if preco_cpu is not None and preco_ram is not None:\n",
        "        preco_hardware = (num_cpus * preco_cpu) + (ram_gb * preco_ram)\n",
        "        return preco_hardware\n",
        "    else:\n",
        "        return None"
      ],
      "metadata": {
        "id": "NiAJX8HkdkXg"
      },
      "execution_count": null,
      "outputs": []
    },
    {
      "cell_type": "code",
      "source": [
        "for _, row in df_gcp_specs.tail().iterrows():\n",
        "    print(calcular_preco_vm_gcp(row))"
      ],
      "metadata": {
        "colab": {
          "base_uri": "https://localhost:8080/"
        },
        "id": "uq0KuQiy6DVW",
        "outputId": "ae52c499-8835-4b5d-be7b-4b5472a502ba"
      },
      "execution_count": null,
      "outputs": [
        {
          "output_type": "stream",
          "name": "stdout",
          "text": [
            "1.52256\n",
            "0.19032\n",
            "2.28384\n",
            "2.8548\n",
            "0.38064\n"
          ]
        }
      ]
    },
    {
      "cell_type": "code",
      "source": [
        "df_gcp_specs['priceOnDemand'] = df_gcp_specs.apply(calcular_preco_vm_gcp, axis=1)"
      ],
      "metadata": {
        "id": "62mfPbf-6t-d"
      },
      "execution_count": null,
      "outputs": []
    },
    {
      "cell_type": "code",
      "metadata": {
        "id": "NPbJAckwSe3S"
      },
      "source": [
        "df_gcp_specs['priceReserved1yr'] = df_gcp_specs.apply(calcular_preco_vm_gcp, axis=1, tipo_cobranca='1yr')"
      ],
      "execution_count": null,
      "outputs": []
    },
    {
      "cell_type": "code",
      "source": [
        "df_gcp_specs['priceReserved3yr'] = df_gcp_specs.apply(calcular_preco_vm_gcp, axis=1, tipo_cobranca='3yr')"
      ],
      "metadata": {
        "id": "L1XCVDOmLtFL"
      },
      "execution_count": null,
      "outputs": []
    },
    {
      "cell_type": "code",
      "source": [
        "df_gcp_specs.info()"
      ],
      "metadata": {
        "colab": {
          "base_uri": "https://localhost:8080/"
        },
        "id": "liMQvee-7hdM",
        "outputId": "0e9510f8-75f4-480c-bb31-b9489078eff5"
      },
      "execution_count": null,
      "outputs": [
        {
          "output_type": "stream",
          "name": "stdout",
          "text": [
            "<class 'pandas.core.frame.DataFrame'>\n",
            "RangeIndex: 25365 entries, 0 to 25364\n",
            "Data columns (total 9 columns):\n",
            " #   Column            Non-Null Count  Dtype  \n",
            "---  ------            --------------  -----  \n",
            " 0   machineType       25365 non-null  object \n",
            " 1   machineFamily     25365 non-null  object \n",
            " 2   numberOfCores     25365 non-null  int64  \n",
            " 3   memoryInMiB       25365 non-null  int64  \n",
            " 4   ephemeralDiskGiB  25365 non-null  int64  \n",
            " 5   regionCode        25365 non-null  object \n",
            " 6   priceOnDemand     20549 non-null  float64\n",
            " 7   priceReserved1yr  20635 non-null  float64\n",
            " 8   priceReserved3yr  20635 non-null  float64\n",
            "dtypes: float64(3), int64(3), object(3)\n",
            "memory usage: 1.7+ MB\n"
          ]
        }
      ]
    },
    {
      "cell_type": "code",
      "source": [
        "general_purpose = ['N4', 'N2', 'N2D', 'N1', 'C4A', 'C4', 'C4D', 'C3', 'C3D', 'E2', 'T2A', 'T2D']\n",
        "df_vms_gcp = df_gcp_specs.loc[\n",
        "    (df_gcp_specs['priceOnDemand'].notna()) &\n",
        "    (df_gcp_specs['machineFamily'].isin(general_purpose))\n",
        "    ]\n",
        "\n",
        "df_vms_gcp.info()"
      ],
      "metadata": {
        "id": "urhoLJG4RDaC",
        "colab": {
          "base_uri": "https://localhost:8080/"
        },
        "outputId": "5e5454d0-5511-4479-9b8d-d10aa39ca04c"
      },
      "execution_count": null,
      "outputs": [
        {
          "output_type": "stream",
          "name": "stdout",
          "text": [
            "<class 'pandas.core.frame.DataFrame'>\n",
            "Index: 17744 entries, 1109 to 25364\n",
            "Data columns (total 9 columns):\n",
            " #   Column            Non-Null Count  Dtype  \n",
            "---  ------            --------------  -----  \n",
            " 0   machineType       17744 non-null  object \n",
            " 1   machineFamily     17744 non-null  object \n",
            " 2   numberOfCores     17744 non-null  int64  \n",
            " 3   memoryInMiB       17744 non-null  int64  \n",
            " 4   ephemeralDiskGiB  17744 non-null  int64  \n",
            " 5   regionCode        17744 non-null  object \n",
            " 6   priceOnDemand     17744 non-null  float64\n",
            " 7   priceReserved1yr  17688 non-null  float64\n",
            " 8   priceReserved3yr  17688 non-null  float64\n",
            "dtypes: float64(3), int64(3), object(3)\n",
            "memory usage: 1.4+ MB\n"
          ]
        }
      ]
    },
    {
      "cell_type": "markdown",
      "source": [
        "## Tratamento 💆"
      ],
      "metadata": {
        "id": "svtPxj-SOoPn"
      }
    },
    {
      "cell_type": "code",
      "source": [
        "df_vms_gcp['extractionDate'] = extraction_date\n",
        "df_vms_gcp['provider'] = 'GCP'\n",
        "df_vms_gcp['currencyCode'] = 'USD'"
      ],
      "metadata": {
        "colab": {
          "base_uri": "https://localhost:8080/"
        },
        "id": "6_b1E3XQOwRR",
        "outputId": "44696e8b-47ac-4af8-af7c-04b61ee0e339"
      },
      "execution_count": null,
      "outputs": [
        {
          "output_type": "stream",
          "name": "stderr",
          "text": [
            "/tmp/ipython-input-39-4161156711.py:1: SettingWithCopyWarning: \n",
            "A value is trying to be set on a copy of a slice from a DataFrame.\n",
            "Try using .loc[row_indexer,col_indexer] = value instead\n",
            "\n",
            "See the caveats in the documentation: https://pandas.pydata.org/pandas-docs/stable/user_guide/indexing.html#returning-a-view-versus-a-copy\n",
            "  df_vms_gcp['extractionDate'] = extraction_date\n",
            "/tmp/ipython-input-39-4161156711.py:2: SettingWithCopyWarning: \n",
            "A value is trying to be set on a copy of a slice from a DataFrame.\n",
            "Try using .loc[row_indexer,col_indexer] = value instead\n",
            "\n",
            "See the caveats in the documentation: https://pandas.pydata.org/pandas-docs/stable/user_guide/indexing.html#returning-a-view-versus-a-copy\n",
            "  df_vms_gcp['provider'] = 'GCP'\n",
            "/tmp/ipython-input-39-4161156711.py:3: SettingWithCopyWarning: \n",
            "A value is trying to be set on a copy of a slice from a DataFrame.\n",
            "Try using .loc[row_indexer,col_indexer] = value instead\n",
            "\n",
            "See the caveats in the documentation: https://pandas.pydata.org/pandas-docs/stable/user_guide/indexing.html#returning-a-view-versus-a-copy\n",
            "  df_vms_gcp['currencyCode'] = 'USD'\n"
          ]
        }
      ]
    },
    {
      "cell_type": "code",
      "source": [
        "# Este mapa foi criado com base na documentação oficial do GCP.\n",
        "mapa_regioes_gcp = {\n",
        "    'asia-east1': 'Taiwan',\n",
        "    'asia-east2': 'Hong Kong',\n",
        "    'asia-northeast1': 'Tokyo, Japan',\n",
        "    'asia-northeast2': 'Osaka, Japan',\n",
        "    'asia-northeast3': 'Seoul, South Korea',\n",
        "    'asia-south1': 'Mumbai, India',\n",
        "    'asia-south2': 'Delhi, India',\n",
        "    'asia-southeast1': 'Singapore',\n",
        "    'asia-southeast2': 'Jakarta, Indonesia',\n",
        "    'australia-southeast1': 'Sydney, Australia',\n",
        "    'australia-southeast2': 'Melbourne, Australia',\n",
        "    'europe-central2': 'Warsaw, Poland',\n",
        "    'europe-north1': 'Finland',\n",
        "    'europe-west1': 'Belgium',\n",
        "    'europe-west2': 'London, England, UK',\n",
        "    'europe-west3': 'Frankfurt, Germany',\n",
        "    'europe-west4': 'Netherlands',\n",
        "    'europe-west6': 'Zurich, Switzerland',\n",
        "    'northamerica-northeast1': 'Montréal, Canada',\n",
        "    'northamerica-northeast2': 'Toronto, Canada',\n",
        "    'southamerica-east1': 'São Paulo, Brazil',\n",
        "    'southamerica-west1': 'Santiago, Chile',\n",
        "    'us-central1': 'Iowa, USA',\n",
        "    'us-east1': 'South Carolina, USA',\n",
        "    'us-east4': 'Northern Virginia, USA',\n",
        "    'us-west1': 'Oregon, USA',\n",
        "    'us-west2': 'Los Angeles, USA',\n",
        "    'us-west3': 'Salt Lake City, USA',\n",
        "    'us-west4': 'Las Vegas, USA',\n",
        "    'me-west1': 'Tel Aviv, Israel',\n",
        "    'africa-south1': 'Johannesburg, South Africa'\n",
        "    # Adicione outras regiões conforme necessário\n",
        "}\n",
        "\n",
        "# Usa o dicionário para mapear os nomes programáticos para os nomes legíveis.\n",
        "# .get(x, x) é usado como um fallback: se uma região não estiver no mapa, ele usa o próprio nome programático.\n",
        "df_vms_gcp['region'] = df_vms_gcp['regionCode'].apply(lambda x: mapa_regioes_gcp.get(x, x))\n",
        "print(\"Coluna 'region' criada com sucesso.\")\n",
        "\n",
        "# Exibe o resultado para verificação\n",
        "display(df_vms_gcp[['regionCode', 'region']].head())"
      ],
      "metadata": {
        "colab": {
          "base_uri": "https://localhost:8080/",
          "height": 525
        },
        "id": "j0hXWxnYPeMa",
        "outputId": "946231c0-1d3e-454c-8093-681ad4e28400"
      },
      "execution_count": null,
      "outputs": [
        {
          "output_type": "stream",
          "name": "stdout",
          "text": [
            "Coluna 'region' criada com sucesso.\n"
          ]
        },
        {
          "output_type": "stream",
          "name": "stderr",
          "text": [
            "/tmp/ipython-input-40-1332737139.py:39: SettingWithCopyWarning: \n",
            "A value is trying to be set on a copy of a slice from a DataFrame.\n",
            "Try using .loc[row_indexer,col_indexer] = value instead\n",
            "\n",
            "See the caveats in the documentation: https://pandas.pydata.org/pandas-docs/stable/user_guide/indexing.html#returning-a-view-versus-a-copy\n",
            "  df_vms_gcp['region'] = df_vms_gcp['regionCode'].apply(lambda x: mapa_regioes_gcp.get(x, x))\n"
          ]
        },
        {
          "output_type": "display_data",
          "data": {
            "text/plain": [
              "     regionCode                  region\n",
              "1109   us-east4  Northern Virginia, USA\n",
              "1110   us-east4  Northern Virginia, USA\n",
              "1111   us-east4  Northern Virginia, USA\n",
              "1112   us-east4  Northern Virginia, USA\n",
              "1113   us-east4  Northern Virginia, USA"
            ],
            "text/html": [
              "\n",
              "  <div id=\"df-30605240-5bf4-4f15-9d91-f7e0edacdb1a\" class=\"colab-df-container\">\n",
              "    <div>\n",
              "<style scoped>\n",
              "    .dataframe tbody tr th:only-of-type {\n",
              "        vertical-align: middle;\n",
              "    }\n",
              "\n",
              "    .dataframe tbody tr th {\n",
              "        vertical-align: top;\n",
              "    }\n",
              "\n",
              "    .dataframe thead th {\n",
              "        text-align: right;\n",
              "    }\n",
              "</style>\n",
              "<table border=\"1\" class=\"dataframe\">\n",
              "  <thead>\n",
              "    <tr style=\"text-align: right;\">\n",
              "      <th></th>\n",
              "      <th>regionCode</th>\n",
              "      <th>region</th>\n",
              "    </tr>\n",
              "  </thead>\n",
              "  <tbody>\n",
              "    <tr>\n",
              "      <th>1109</th>\n",
              "      <td>us-east4</td>\n",
              "      <td>Northern Virginia, USA</td>\n",
              "    </tr>\n",
              "    <tr>\n",
              "      <th>1110</th>\n",
              "      <td>us-east4</td>\n",
              "      <td>Northern Virginia, USA</td>\n",
              "    </tr>\n",
              "    <tr>\n",
              "      <th>1111</th>\n",
              "      <td>us-east4</td>\n",
              "      <td>Northern Virginia, USA</td>\n",
              "    </tr>\n",
              "    <tr>\n",
              "      <th>1112</th>\n",
              "      <td>us-east4</td>\n",
              "      <td>Northern Virginia, USA</td>\n",
              "    </tr>\n",
              "    <tr>\n",
              "      <th>1113</th>\n",
              "      <td>us-east4</td>\n",
              "      <td>Northern Virginia, USA</td>\n",
              "    </tr>\n",
              "  </tbody>\n",
              "</table>\n",
              "</div>\n",
              "    <div class=\"colab-df-buttons\">\n",
              "\n",
              "  <div class=\"colab-df-container\">\n",
              "    <button class=\"colab-df-convert\" onclick=\"convertToInteractive('df-30605240-5bf4-4f15-9d91-f7e0edacdb1a')\"\n",
              "            title=\"Convert this dataframe to an interactive table.\"\n",
              "            style=\"display:none;\">\n",
              "\n",
              "  <svg xmlns=\"http://www.w3.org/2000/svg\" height=\"24px\" viewBox=\"0 -960 960 960\">\n",
              "    <path d=\"M120-120v-720h720v720H120Zm60-500h600v-160H180v160Zm220 220h160v-160H400v160Zm0 220h160v-160H400v160ZM180-400h160v-160H180v160Zm440 0h160v-160H620v160ZM180-180h160v-160H180v160Zm440 0h160v-160H620v160Z\"/>\n",
              "  </svg>\n",
              "    </button>\n",
              "\n",
              "  <style>\n",
              "    .colab-df-container {\n",
              "      display:flex;\n",
              "      gap: 12px;\n",
              "    }\n",
              "\n",
              "    .colab-df-convert {\n",
              "      background-color: #E8F0FE;\n",
              "      border: none;\n",
              "      border-radius: 50%;\n",
              "      cursor: pointer;\n",
              "      display: none;\n",
              "      fill: #1967D2;\n",
              "      height: 32px;\n",
              "      padding: 0 0 0 0;\n",
              "      width: 32px;\n",
              "    }\n",
              "\n",
              "    .colab-df-convert:hover {\n",
              "      background-color: #E2EBFA;\n",
              "      box-shadow: 0px 1px 2px rgba(60, 64, 67, 0.3), 0px 1px 3px 1px rgba(60, 64, 67, 0.15);\n",
              "      fill: #174EA6;\n",
              "    }\n",
              "\n",
              "    .colab-df-buttons div {\n",
              "      margin-bottom: 4px;\n",
              "    }\n",
              "\n",
              "    [theme=dark] .colab-df-convert {\n",
              "      background-color: #3B4455;\n",
              "      fill: #D2E3FC;\n",
              "    }\n",
              "\n",
              "    [theme=dark] .colab-df-convert:hover {\n",
              "      background-color: #434B5C;\n",
              "      box-shadow: 0px 1px 3px 1px rgba(0, 0, 0, 0.15);\n",
              "      filter: drop-shadow(0px 1px 2px rgba(0, 0, 0, 0.3));\n",
              "      fill: #FFFFFF;\n",
              "    }\n",
              "  </style>\n",
              "\n",
              "    <script>\n",
              "      const buttonEl =\n",
              "        document.querySelector('#df-30605240-5bf4-4f15-9d91-f7e0edacdb1a button.colab-df-convert');\n",
              "      buttonEl.style.display =\n",
              "        google.colab.kernel.accessAllowed ? 'block' : 'none';\n",
              "\n",
              "      async function convertToInteractive(key) {\n",
              "        const element = document.querySelector('#df-30605240-5bf4-4f15-9d91-f7e0edacdb1a');\n",
              "        const dataTable =\n",
              "          await google.colab.kernel.invokeFunction('convertToInteractive',\n",
              "                                                    [key], {});\n",
              "        if (!dataTable) return;\n",
              "\n",
              "        const docLinkHtml = 'Like what you see? Visit the ' +\n",
              "          '<a target=\"_blank\" href=https://colab.research.google.com/notebooks/data_table.ipynb>data table notebook</a>'\n",
              "          + ' to learn more about interactive tables.';\n",
              "        element.innerHTML = '';\n",
              "        dataTable['output_type'] = 'display_data';\n",
              "        await google.colab.output.renderOutput(dataTable, element);\n",
              "        const docLink = document.createElement('div');\n",
              "        docLink.innerHTML = docLinkHtml;\n",
              "        element.appendChild(docLink);\n",
              "      }\n",
              "    </script>\n",
              "  </div>\n",
              "\n",
              "\n",
              "    <div id=\"df-02263b1d-12cd-4380-94fc-e2905aa582d9\">\n",
              "      <button class=\"colab-df-quickchart\" onclick=\"quickchart('df-02263b1d-12cd-4380-94fc-e2905aa582d9')\"\n",
              "                title=\"Suggest charts\"\n",
              "                style=\"display:none;\">\n",
              "\n",
              "<svg xmlns=\"http://www.w3.org/2000/svg\" height=\"24px\"viewBox=\"0 0 24 24\"\n",
              "     width=\"24px\">\n",
              "    <g>\n",
              "        <path d=\"M19 3H5c-1.1 0-2 .9-2 2v14c0 1.1.9 2 2 2h14c1.1 0 2-.9 2-2V5c0-1.1-.9-2-2-2zM9 17H7v-7h2v7zm4 0h-2V7h2v10zm4 0h-2v-4h2v4z\"/>\n",
              "    </g>\n",
              "</svg>\n",
              "      </button>\n",
              "\n",
              "<style>\n",
              "  .colab-df-quickchart {\n",
              "      --bg-color: #E8F0FE;\n",
              "      --fill-color: #1967D2;\n",
              "      --hover-bg-color: #E2EBFA;\n",
              "      --hover-fill-color: #174EA6;\n",
              "      --disabled-fill-color: #AAA;\n",
              "      --disabled-bg-color: #DDD;\n",
              "  }\n",
              "\n",
              "  [theme=dark] .colab-df-quickchart {\n",
              "      --bg-color: #3B4455;\n",
              "      --fill-color: #D2E3FC;\n",
              "      --hover-bg-color: #434B5C;\n",
              "      --hover-fill-color: #FFFFFF;\n",
              "      --disabled-bg-color: #3B4455;\n",
              "      --disabled-fill-color: #666;\n",
              "  }\n",
              "\n",
              "  .colab-df-quickchart {\n",
              "    background-color: var(--bg-color);\n",
              "    border: none;\n",
              "    border-radius: 50%;\n",
              "    cursor: pointer;\n",
              "    display: none;\n",
              "    fill: var(--fill-color);\n",
              "    height: 32px;\n",
              "    padding: 0;\n",
              "    width: 32px;\n",
              "  }\n",
              "\n",
              "  .colab-df-quickchart:hover {\n",
              "    background-color: var(--hover-bg-color);\n",
              "    box-shadow: 0 1px 2px rgba(60, 64, 67, 0.3), 0 1px 3px 1px rgba(60, 64, 67, 0.15);\n",
              "    fill: var(--button-hover-fill-color);\n",
              "  }\n",
              "\n",
              "  .colab-df-quickchart-complete:disabled,\n",
              "  .colab-df-quickchart-complete:disabled:hover {\n",
              "    background-color: var(--disabled-bg-color);\n",
              "    fill: var(--disabled-fill-color);\n",
              "    box-shadow: none;\n",
              "  }\n",
              "\n",
              "  .colab-df-spinner {\n",
              "    border: 2px solid var(--fill-color);\n",
              "    border-color: transparent;\n",
              "    border-bottom-color: var(--fill-color);\n",
              "    animation:\n",
              "      spin 1s steps(1) infinite;\n",
              "  }\n",
              "\n",
              "  @keyframes spin {\n",
              "    0% {\n",
              "      border-color: transparent;\n",
              "      border-bottom-color: var(--fill-color);\n",
              "      border-left-color: var(--fill-color);\n",
              "    }\n",
              "    20% {\n",
              "      border-color: transparent;\n",
              "      border-left-color: var(--fill-color);\n",
              "      border-top-color: var(--fill-color);\n",
              "    }\n",
              "    30% {\n",
              "      border-color: transparent;\n",
              "      border-left-color: var(--fill-color);\n",
              "      border-top-color: var(--fill-color);\n",
              "      border-right-color: var(--fill-color);\n",
              "    }\n",
              "    40% {\n",
              "      border-color: transparent;\n",
              "      border-right-color: var(--fill-color);\n",
              "      border-top-color: var(--fill-color);\n",
              "    }\n",
              "    60% {\n",
              "      border-color: transparent;\n",
              "      border-right-color: var(--fill-color);\n",
              "    }\n",
              "    80% {\n",
              "      border-color: transparent;\n",
              "      border-right-color: var(--fill-color);\n",
              "      border-bottom-color: var(--fill-color);\n",
              "    }\n",
              "    90% {\n",
              "      border-color: transparent;\n",
              "      border-bottom-color: var(--fill-color);\n",
              "    }\n",
              "  }\n",
              "</style>\n",
              "\n",
              "      <script>\n",
              "        async function quickchart(key) {\n",
              "          const quickchartButtonEl =\n",
              "            document.querySelector('#' + key + ' button');\n",
              "          quickchartButtonEl.disabled = true;  // To prevent multiple clicks.\n",
              "          quickchartButtonEl.classList.add('colab-df-spinner');\n",
              "          try {\n",
              "            const charts = await google.colab.kernel.invokeFunction(\n",
              "                'suggestCharts', [key], {});\n",
              "          } catch (error) {\n",
              "            console.error('Error during call to suggestCharts:', error);\n",
              "          }\n",
              "          quickchartButtonEl.classList.remove('colab-df-spinner');\n",
              "          quickchartButtonEl.classList.add('colab-df-quickchart-complete');\n",
              "        }\n",
              "        (() => {\n",
              "          let quickchartButtonEl =\n",
              "            document.querySelector('#df-02263b1d-12cd-4380-94fc-e2905aa582d9 button');\n",
              "          quickchartButtonEl.style.display =\n",
              "            google.colab.kernel.accessAllowed ? 'block' : 'none';\n",
              "        })();\n",
              "      </script>\n",
              "    </div>\n",
              "\n",
              "    </div>\n",
              "  </div>\n"
            ],
            "application/vnd.google.colaboratory.intrinsic+json": {
              "type": "dataframe",
              "summary": "{\n  \"name\": \"display(df_vms_gcp[['regionCode', 'region']]\",\n  \"rows\": 5,\n  \"fields\": [\n    {\n      \"column\": \"regionCode\",\n      \"properties\": {\n        \"dtype\": \"category\",\n        \"num_unique_values\": 1,\n        \"samples\": [\n          \"us-east4\"\n        ],\n        \"semantic_type\": \"\",\n        \"description\": \"\"\n      }\n    },\n    {\n      \"column\": \"region\",\n      \"properties\": {\n        \"dtype\": \"category\",\n        \"num_unique_values\": 1,\n        \"samples\": [\n          \"Northern Virginia, USA\"\n        ],\n        \"semantic_type\": \"\",\n        \"description\": \"\"\n      }\n    }\n  ]\n}"
            }
          },
          "metadata": {}
        }
      ]
    },
    {
      "cell_type": "code",
      "source": [
        "ordered_columns = ['extractionDate', 'provider', 'machineType', 'regionCode', 'region', 'numberOfCores', 'memoryInMiB', 'currencyCode', 'priceOnDemand', 'priceReserved1yr', 'priceReserved3yr']\n",
        "df_vms_gcp = df_vms_gcp[ordered_columns]\n",
        "df_vms_gcp.info()"
      ],
      "metadata": {
        "colab": {
          "base_uri": "https://localhost:8080/"
        },
        "id": "zTIWN89aQXbw",
        "outputId": "ee3085d8-4ae0-4544-9aef-f5d0b3e212c5"
      },
      "execution_count": null,
      "outputs": [
        {
          "output_type": "stream",
          "name": "stdout",
          "text": [
            "<class 'pandas.core.frame.DataFrame'>\n",
            "Index: 17744 entries, 1109 to 25364\n",
            "Data columns (total 11 columns):\n",
            " #   Column            Non-Null Count  Dtype                            \n",
            "---  ------            --------------  -----                            \n",
            " 0   extractionDate    17744 non-null  datetime64[us, America/Sao_Paulo]\n",
            " 1   provider          17744 non-null  object                           \n",
            " 2   machineType       17744 non-null  object                           \n",
            " 3   regionCode        17744 non-null  object                           \n",
            " 4   region            17744 non-null  object                           \n",
            " 5   numberOfCores     17744 non-null  int64                            \n",
            " 6   memoryInMiB       17744 non-null  int64                            \n",
            " 7   currencyCode      17744 non-null  object                           \n",
            " 8   priceOnDemand     17744 non-null  float64                          \n",
            " 9   priceReserved1yr  17688 non-null  float64                          \n",
            " 10  priceReserved3yr  17688 non-null  float64                          \n",
            "dtypes: datetime64[us, America/Sao_Paulo](1), float64(3), int64(2), object(5)\n",
            "memory usage: 1.6+ MB\n"
          ]
        }
      ]
    },
    {
      "cell_type": "markdown",
      "source": [
        "## Persistência 📁"
      ],
      "metadata": {
        "id": "CbDGqRVxK3ho"
      }
    },
    {
      "cell_type": "code",
      "source": [
        "file_name = f'vms_gcp_{extraction_date.strftime(\"%d-%m-%Y\")}.csv'\n",
        "set_key(env_file, \"GCP_FILE\", file_name)\n",
        "\n",
        "df_vms_gcp.to_csv(f'/content/drive/MyDrive/MBA Data Science e Analytics/TCC/Dados/{file_name}', index=False)"
      ],
      "metadata": {
        "id": "u9RVRRkDohbB"
      },
      "execution_count": null,
      "outputs": []
    }
  ]
}